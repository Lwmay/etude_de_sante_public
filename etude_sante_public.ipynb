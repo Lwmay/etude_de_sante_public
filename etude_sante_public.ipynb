{
 "cells": [
  {
   "cell_type": "markdown",
   "metadata": {},
   "source": [
    "<div style=\"text-align:right;\">May Laurent - Juin 2021</div>\n",
    "\n",
    "# Etude de santé publique\n",
    "\n",
    "Food and Agriculture Organization of the United Nations\n",
    "http://www.fao.org/home/fr/\n",
    "\n",
    "## Objectifs de l'étude\n",
    "L'étude porte sur la mise en évidence des principaux indicateurs pour l'année 2017 :\n",
    "* Proportion de personnes en état de sous-nutrition\n",
    "* Pays pour lesquels la proportion de personnes sous-alimentées est la plus forte.\n",
    "* Nombre théorique de personnes qui pourraient être nourries.\n",
    "* Nombre théorique de personnes qui pourraient être nourries avec uniquement des produits d'origine végétaux.\n",
    "* Utilisation de la disponibilité intérieure.\n",
    "* Pays ayant le plus/le moins de disponibilité/habitant.\n",
    "* Pays qui ont le plus bénéficié d’aide depuis 2013."
   ]
  },
  {
   "cell_type": "markdown",
   "metadata": {},
   "source": [
    "## Mise en place de l'environnement"
   ]
  },
  {
   "cell_type": "markdown",
   "metadata": {},
   "source": [
    "### Importation des librairies"
   ]
  },
  {
   "cell_type": "code",
   "execution_count": 1,
   "metadata": {
    "scrolled": true
   },
   "outputs": [],
   "source": [
    "import numpy as np\n",
    "import pandas as pd\n",
    "import os, sys\n",
    "from IPython.display import display\n",
    "import matplotlib.pyplot as plt"
   ]
  },
  {
   "cell_type": "markdown",
   "metadata": {},
   "source": [
    "### Constantes et config"
   ]
  },
  {
   "cell_type": "code",
   "execution_count": 2,
   "metadata": {
    "scrolled": true
   },
   "outputs": [],
   "source": [
    "# path to data folder\n",
    "DATA_PATH = os.path.realpath('') + '/data/'\n",
    "\n",
    "# Pandas settings\n",
    "pd.set_option(\"display.max_columns\", 50)\n",
    "pd.set_option(\"display.max_rows\", 100)\n",
    "pd.options.display.float_format = '{:,.2f}'.format\n",
    "\n",
    "# 'sous_nutrition' columns names\n",
    "under_nourish_COL_NAMES = {\n",
    "    'Zone':   'country',\n",
    "    'Année':  'year',\n",
    "    'Valeur': 'nb_under_nourish'\n",
    "}\n",
    "\n",
    "# 'population' columns names\n",
    "POP_COL_NAMES = {\n",
    "    'Zone':   'country',\n",
    "    'Année':  'year',\n",
    "    'Valeur': 'pop_size'\n",
    "}\n",
    "\n",
    "# 'disponibilité alimentaire' columns names\n",
    "DISPO_FOOD_COL_NAMES = {\n",
    "    'Zone':                                                          'country',\n",
    "    'Produit':                                                       'products',\n",
    "    'Origine':                                                       'food_origin',\n",
    "    'Aliments pour animaux':                                         'food_for_animals',\n",
    "    'Autres Utilisations':                                           'other_use',\n",
    "    'Disponibilité alimentaire (Kcal/personne/jour)':                'food_supply_kcal_avl',\n",
    "    'Disponibilité alimentaire en quantité (kg/personne/an)':        'food_amount_kg_avl',\n",
    "    'Disponibilité de matière grasse en quantité (g/personne/jour)': 'fat_supply_g_avl',\n",
    "    'Disponibilité de protéines en quantité (g/personne/jour)':      'prot_amount_g_avl',\n",
    "    'Disponibilité intérieure':                                      'domestic_amount',\n",
    "    'Exportations - Quantité':                                       'export_amount',\n",
    "    'Importations - Quantité':                                       'import_amount',\n",
    "    'Nourriture':                                                    'food_amount',\n",
    "    'Pertes':                                                        'losses',\n",
    "    'Production':                                                    'production',\n",
    "    'Semences':                                                      'seed',\n",
    "    'Traitement':                                                    'processing',\n",
    "    'Variation de stock':                                            'stock_variation'\n",
    "}\n",
    "\n",
    "# 'aide alimentaire' columns names\n",
    "HELP_COL_NAMES = {\n",
    "    'Pays bénéficiaire':  'country',\n",
    "    'Année':              'year',\n",
    "    'Produit':            'product',\n",
    "    'Valeur':             'help_product_value'\n",
    "}\n",
    "\n",
    "CEREALS_LIST = [\n",
    "    'Maïs',\n",
    "    'Blé',\n",
    "    'Céréales, Autres',\n",
    "    'Millet',\n",
    "    'Orge',\n",
    "    'Riz (Eq Blanchi)',\n",
    "    'Avoine',\n",
    "    'Seigle',\n",
    "    'Sorgho'\n",
    "]\n",
    "\n",
    "# world population size 2017 published\n",
    "WEB_WORLD_POP_SIZE_2017 = 7500000000"
   ]
  },
  {
   "cell_type": "markdown",
   "metadata": {},
   "source": [
    "### Fonctions"
   ]
  },
  {
   "cell_type": "code",
   "execution_count": 3,
   "metadata": {
    "scrolled": true
   },
   "outputs": [],
   "source": [
    "# import csv file\n",
    "def import_csv_to_dataframe(filename):\n",
    "    try:\n",
    "        return pd.read_csv(DATA_PATH + filename, encoding='utf8')\n",
    "    except Exception as e:\n",
    "        print(\">>> Le fichier {} est introuvable.\".format(filename))\n",
    "        sys.exit(e)\n",
    "        \n",
    "# calculte pourcentage\n",
    "def prop(nb_1, nb_2):\n",
    "    return round(nb_1 / nb_2 * 100, 2)"
   ]
  },
  {
   "cell_type": "markdown",
   "metadata": {},
   "source": [
    "## Importation des données\n",
    "Nous avons 4 fichiers de données :\n",
    "* Sous-nutrition  \n",
    "* Population  \n",
    "* Disponibilité alimentaire   \n",
    "* Aide alimentaire  \n",
    "\n",
    "Création d'un dataframe par fichier de données."
   ]
  },
  {
   "cell_type": "markdown",
   "metadata": {},
   "source": [
    "### Données sous nutrition"
   ]
  },
  {
   "cell_type": "code",
   "execution_count": 4,
   "metadata": {
    "scrolled": true
   },
   "outputs": [],
   "source": [
    "# import_amount sous_nutrition data to dataframe\n",
    "df_under_nourish = import_csv_to_dataframe(\"sous_nutrition.csv\")\n",
    "\n",
    "# Change colums names\n",
    "df_under_nourish.rename(\n",
    "    columns = under_nourish_COL_NAMES,\n",
    "    inplace = True\n",
    ")\n",
    "\n",
    "# Convert date\n",
    "df_under_nourish[\"year\"] = [\n",
    "    int(\n",
    "        np.median(\n",
    "            list(map(int, i.split(\"-\")))\n",
    "        )\n",
    "    ) for i in df_under_nourish['year']\n",
    "]\n",
    "\n",
    "# Clean data\n",
    "df_under_nourish['nb_under_nourish'] = df_under_nourish['nb_under_nourish'].replace(['<0.1'], 0.01).astype(float)\n",
    "\n",
    "# Convert people's count from million to units\n",
    "df_under_nourish['nb_under_nourish'] = df_under_nourish['nb_under_nourish'] * 1000000"
   ]
  },
  {
   "cell_type": "code",
   "execution_count": 68,
   "metadata": {
    "tags": []
   },
   "outputs": [
    {
     "data": {
      "text/html": [
       "<div>\n",
       "<style scoped>\n",
       "    .dataframe tbody tr th:only-of-type {\n",
       "        vertical-align: middle;\n",
       "    }\n",
       "\n",
       "    .dataframe tbody tr th {\n",
       "        vertical-align: top;\n",
       "    }\n",
       "\n",
       "    .dataframe thead th {\n",
       "        text-align: right;\n",
       "    }\n",
       "</style>\n",
       "<table border=\"1\" class=\"dataframe\">\n",
       "  <thead>\n",
       "    <tr style=\"text-align: right;\">\n",
       "      <th></th>\n",
       "      <th>country</th>\n",
       "      <th>year</th>\n",
       "      <th>nb_under_nourish</th>\n",
       "    </tr>\n",
       "  </thead>\n",
       "  <tbody>\n",
       "    <tr>\n",
       "      <th>0</th>\n",
       "      <td>Afghanistan</td>\n",
       "      <td>2013</td>\n",
       "      <td>8,600,000.00</td>\n",
       "    </tr>\n",
       "    <tr>\n",
       "      <th>1</th>\n",
       "      <td>Afghanistan</td>\n",
       "      <td>2014</td>\n",
       "      <td>8,800,000.00</td>\n",
       "    </tr>\n",
       "    <tr>\n",
       "      <th>2</th>\n",
       "      <td>Afghanistan</td>\n",
       "      <td>2015</td>\n",
       "      <td>8,900,000.00</td>\n",
       "    </tr>\n",
       "    <tr>\n",
       "      <th>3</th>\n",
       "      <td>Afghanistan</td>\n",
       "      <td>2016</td>\n",
       "      <td>9,700,000.00</td>\n",
       "    </tr>\n",
       "    <tr>\n",
       "      <th>4</th>\n",
       "      <td>Afghanistan</td>\n",
       "      <td>2017</td>\n",
       "      <td>10,500,000.00</td>\n",
       "    </tr>\n",
       "  </tbody>\n",
       "</table>\n",
       "</div>"
      ],
      "text/plain": [
       "       country  year  nb_under_nourish\n",
       "0  Afghanistan  2013      8,600,000.00\n",
       "1  Afghanistan  2014      8,800,000.00\n",
       "2  Afghanistan  2015      8,900,000.00\n",
       "3  Afghanistan  2016      9,700,000.00\n",
       "4  Afghanistan  2017     10,500,000.00"
      ]
     },
     "metadata": {},
     "output_type": "display_data"
    }
   ],
   "source": [
    "display(df_under_nourish.head(5))"
   ]
  },
  {
   "cell_type": "markdown",
   "metadata": {},
   "source": [
    "### Données population"
   ]
  },
  {
   "cell_type": "code",
   "execution_count": 6,
   "metadata": {
    "scrolled": true
   },
   "outputs": [],
   "source": [
    "# import_amount population data to dataframe\n",
    "df_pop = import_csv_to_dataframe(\"population.csv\")\n",
    "\n",
    "# Change colums names\n",
    "df_pop.rename(\n",
    "    columns = POP_COL_NAMES,\n",
    "    inplace = True\n",
    ")\n",
    "\n",
    "# Convert people's count from thousands to units\n",
    "df_pop['pop_size'] = df_pop['pop_size'] * 1000"
   ]
  },
  {
   "cell_type": "code",
   "execution_count": 7,
   "metadata": {
    "tags": []
   },
   "outputs": [
    {
     "data": {
      "text/html": [
       "<div>\n",
       "<style scoped>\n",
       "    .dataframe tbody tr th:only-of-type {\n",
       "        vertical-align: middle;\n",
       "    }\n",
       "\n",
       "    .dataframe tbody tr th {\n",
       "        vertical-align: top;\n",
       "    }\n",
       "\n",
       "    .dataframe thead th {\n",
       "        text-align: right;\n",
       "    }\n",
       "</style>\n",
       "<table border=\"1\" class=\"dataframe\">\n",
       "  <thead>\n",
       "    <tr style=\"text-align: right;\">\n",
       "      <th></th>\n",
       "      <th>country</th>\n",
       "      <th>year</th>\n",
       "      <th>pop_size</th>\n",
       "    </tr>\n",
       "  </thead>\n",
       "  <tbody>\n",
       "    <tr>\n",
       "      <th>223</th>\n",
       "      <td>Cambodge</td>\n",
       "      <td>2014</td>\n",
       "      <td>15,274,503.00</td>\n",
       "    </tr>\n",
       "    <tr>\n",
       "      <th>1081</th>\n",
       "      <td>République dominicaine</td>\n",
       "      <td>2014</td>\n",
       "      <td>10,165,183.00</td>\n",
       "    </tr>\n",
       "    <tr>\n",
       "      <th>1007</th>\n",
       "      <td>Pérou</td>\n",
       "      <td>2018</td>\n",
       "      <td>31,989,260.00</td>\n",
       "    </tr>\n",
       "    <tr>\n",
       "      <th>241</th>\n",
       "      <td>Chili</td>\n",
       "      <td>2014</td>\n",
       "      <td>17,758,959.00</td>\n",
       "    </tr>\n",
       "    <tr>\n",
       "      <th>785</th>\n",
       "      <td>Malawi</td>\n",
       "      <td>2018</td>\n",
       "      <td>18,143,217.00</td>\n",
       "    </tr>\n",
       "  </tbody>\n",
       "</table>\n",
       "</div>"
      ],
      "text/plain": [
       "                     country  year      pop_size\n",
       "223                 Cambodge  2014 15,274,503.00\n",
       "1081  République dominicaine  2014 10,165,183.00\n",
       "1007                   Pérou  2018 31,989,260.00\n",
       "241                    Chili  2014 17,758,959.00\n",
       "785                   Malawi  2018 18,143,217.00"
      ]
     },
     "metadata": {},
     "output_type": "display_data"
    }
   ],
   "source": [
    "display(df_pop.sample(5))"
   ]
  },
  {
   "cell_type": "markdown",
   "metadata": {},
   "source": [
    "### Données disponibilité alimentaire"
   ]
  },
  {
   "cell_type": "code",
   "execution_count": 8,
   "metadata": {
    "tags": []
   },
   "outputs": [],
   "source": [
    "# import_amount dispo_alimentataire data to dataframe\n",
    "df_foods_avl = import_csv_to_dataframe(\"dispo_alimentaire.csv\")\n",
    "\n",
    "# Change colums names\n",
    "df_foods_avl.rename(\n",
    "    columns = DISPO_FOOD_COL_NAMES,\n",
    "    inplace = True\n",
    ")\n",
    "\n",
    "# Add cereals criteria\n",
    "df_foods_avl['is_cereals'] = np.where(df_foods_avl['products'].isin(CEREALS_LIST), True, False)\n",
    "\n",
    "# clean data\n",
    "df_foods_avl.fillna(0, inplace=True)\n",
    "\n",
    "# rearrange columns\n",
    "df_foods_avl = df_foods_avl[[\n",
    "    'country', 'products', 'food_origin',\n",
    "    'production', 'import_amount', 'export_amount', 'stock_variation',\n",
    "    'domestic_amount',\n",
    "    'food_amount_kg_avl', 'food_supply_kcal_avl', 'prot_amount_g_avl', 'fat_supply_g_avl',\n",
    "    'food_amount', 'food_for_animals', 'other_use', 'losses', 'seed', 'processing',\n",
    "    'is_cereals'\n",
    "    ]]"
   ]
  },
  {
   "cell_type": "code",
   "execution_count": 9,
   "metadata": {},
   "outputs": [
    {
     "data": {
      "text/html": [
       "<div>\n",
       "<style scoped>\n",
       "    .dataframe tbody tr th:only-of-type {\n",
       "        vertical-align: middle;\n",
       "    }\n",
       "\n",
       "    .dataframe tbody tr th {\n",
       "        vertical-align: top;\n",
       "    }\n",
       "\n",
       "    .dataframe thead th {\n",
       "        text-align: right;\n",
       "    }\n",
       "</style>\n",
       "<table border=\"1\" class=\"dataframe\">\n",
       "  <thead>\n",
       "    <tr style=\"text-align: right;\">\n",
       "      <th></th>\n",
       "      <th>country</th>\n",
       "      <th>products</th>\n",
       "      <th>food_origin</th>\n",
       "      <th>production</th>\n",
       "      <th>import_amount</th>\n",
       "      <th>export_amount</th>\n",
       "      <th>stock_variation</th>\n",
       "      <th>domestic_amount</th>\n",
       "      <th>food_amount_kg_avl</th>\n",
       "      <th>food_supply_kcal_avl</th>\n",
       "      <th>prot_amount_g_avl</th>\n",
       "      <th>fat_supply_g_avl</th>\n",
       "      <th>food_amount</th>\n",
       "      <th>food_for_animals</th>\n",
       "      <th>other_use</th>\n",
       "      <th>losses</th>\n",
       "      <th>seed</th>\n",
       "      <th>processing</th>\n",
       "      <th>is_cereals</th>\n",
       "    </tr>\n",
       "  </thead>\n",
       "  <tbody>\n",
       "    <tr>\n",
       "      <th>15365</th>\n",
       "      <td>États-Unis d'Amérique</td>\n",
       "      <td>Fruits, Autres</td>\n",
       "      <td>vegetale</td>\n",
       "      <td>5,290.00</td>\n",
       "      <td>4,683.00</td>\n",
       "      <td>2,336.00</td>\n",
       "      <td>51.00</td>\n",
       "      <td>7,688.00</td>\n",
       "      <td>22.98</td>\n",
       "      <td>29.00</td>\n",
       "      <td>0.40</td>\n",
       "      <td>0.82</td>\n",
       "      <td>7,354.00</td>\n",
       "      <td>0.00</td>\n",
       "      <td>0.00</td>\n",
       "      <td>365.00</td>\n",
       "      <td>0.00</td>\n",
       "      <td>0.00</td>\n",
       "      <td>False</td>\n",
       "    </tr>\n",
       "    <tr>\n",
       "      <th>12436</th>\n",
       "      <td>Sainte-Lucie</td>\n",
       "      <td>Oignons</td>\n",
       "      <td>vegetale</td>\n",
       "      <td>0.00</td>\n",
       "      <td>1.00</td>\n",
       "      <td>0.00</td>\n",
       "      <td>0.00</td>\n",
       "      <td>1.00</td>\n",
       "      <td>4.81</td>\n",
       "      <td>6.00</td>\n",
       "      <td>0.20</td>\n",
       "      <td>0.03</td>\n",
       "      <td>1.00</td>\n",
       "      <td>0.00</td>\n",
       "      <td>0.00</td>\n",
       "      <td>0.00</td>\n",
       "      <td>0.00</td>\n",
       "      <td>0.00</td>\n",
       "      <td>False</td>\n",
       "    </tr>\n",
       "    <tr>\n",
       "      <th>9832</th>\n",
       "      <td>Nigéria</td>\n",
       "      <td>Miel</td>\n",
       "      <td>vegetale</td>\n",
       "      <td>0.00</td>\n",
       "      <td>0.00</td>\n",
       "      <td>0.00</td>\n",
       "      <td>0.00</td>\n",
       "      <td>0.00</td>\n",
       "      <td>0.00</td>\n",
       "      <td>0.00</td>\n",
       "      <td>0.00</td>\n",
       "      <td>0.00</td>\n",
       "      <td>0.00</td>\n",
       "      <td>0.00</td>\n",
       "      <td>0.00</td>\n",
       "      <td>0.00</td>\n",
       "      <td>0.00</td>\n",
       "      <td>0.00</td>\n",
       "      <td>False</td>\n",
       "    </tr>\n",
       "    <tr>\n",
       "      <th>2951</th>\n",
       "      <td>Chili</td>\n",
       "      <td>Millet</td>\n",
       "      <td>vegetale</td>\n",
       "      <td>0.00</td>\n",
       "      <td>0.00</td>\n",
       "      <td>0.00</td>\n",
       "      <td>0.00</td>\n",
       "      <td>0.00</td>\n",
       "      <td>0.00</td>\n",
       "      <td>0.00</td>\n",
       "      <td>0.00</td>\n",
       "      <td>0.00</td>\n",
       "      <td>0.00</td>\n",
       "      <td>0.00</td>\n",
       "      <td>0.00</td>\n",
       "      <td>0.00</td>\n",
       "      <td>0.00</td>\n",
       "      <td>0.00</td>\n",
       "      <td>True</td>\n",
       "    </tr>\n",
       "    <tr>\n",
       "      <th>14412</th>\n",
       "      <td>Ukraine</td>\n",
       "      <td>Raisin</td>\n",
       "      <td>vegetale</td>\n",
       "      <td>575.00</td>\n",
       "      <td>119.00</td>\n",
       "      <td>0.00</td>\n",
       "      <td>0.00</td>\n",
       "      <td>694.00</td>\n",
       "      <td>8.04</td>\n",
       "      <td>13.00</td>\n",
       "      <td>0.12</td>\n",
       "      <td>0.07</td>\n",
       "      <td>364.00</td>\n",
       "      <td>0.00</td>\n",
       "      <td>1.00</td>\n",
       "      <td>37.00</td>\n",
       "      <td>0.00</td>\n",
       "      <td>293.00</td>\n",
       "      <td>False</td>\n",
       "    </tr>\n",
       "  </tbody>\n",
       "</table>\n",
       "</div>"
      ],
      "text/plain": [
       "                     country        products food_origin  production  \\\n",
       "15365  États-Unis d'Amérique  Fruits, Autres    vegetale    5,290.00   \n",
       "12436           Sainte-Lucie         Oignons    vegetale        0.00   \n",
       "9832                 Nigéria            Miel    vegetale        0.00   \n",
       "2951                   Chili          Millet    vegetale        0.00   \n",
       "14412                Ukraine          Raisin    vegetale      575.00   \n",
       "\n",
       "       import_amount  export_amount  stock_variation  domestic_amount  \\\n",
       "15365       4,683.00       2,336.00            51.00         7,688.00   \n",
       "12436           1.00           0.00             0.00             1.00   \n",
       "9832            0.00           0.00             0.00             0.00   \n",
       "2951            0.00           0.00             0.00             0.00   \n",
       "14412         119.00           0.00             0.00           694.00   \n",
       "\n",
       "       food_amount_kg_avl  food_supply_kcal_avl  prot_amount_g_avl  \\\n",
       "15365               22.98                 29.00               0.40   \n",
       "12436                4.81                  6.00               0.20   \n",
       "9832                 0.00                  0.00               0.00   \n",
       "2951                 0.00                  0.00               0.00   \n",
       "14412                8.04                 13.00               0.12   \n",
       "\n",
       "       fat_supply_g_avl  food_amount  food_for_animals  other_use  losses  \\\n",
       "15365              0.82     7,354.00              0.00       0.00  365.00   \n",
       "12436              0.03         1.00              0.00       0.00    0.00   \n",
       "9832               0.00         0.00              0.00       0.00    0.00   \n",
       "2951               0.00         0.00              0.00       0.00    0.00   \n",
       "14412              0.07       364.00              0.00       1.00   37.00   \n",
       "\n",
       "       seed  processing  is_cereals  \n",
       "15365  0.00        0.00       False  \n",
       "12436  0.00        0.00       False  \n",
       "9832   0.00        0.00       False  \n",
       "2951   0.00        0.00        True  \n",
       "14412  0.00      293.00       False  "
      ]
     },
     "metadata": {},
     "output_type": "display_data"
    }
   ],
   "source": [
    "display(df_foods_avl.sample(5))"
   ]
  },
  {
   "cell_type": "markdown",
   "metadata": {},
   "source": [
    "Lien entre les variables :  \n",
    "* domestic_supply = production  +  import_amount_amount  -  export  +  stock_variation  \n",
    "* domestic_supply = food_amount  +  food_for_animals  +  other_use  +  losses  +  seed  +  processing  "
   ]
  },
  {
   "cell_type": "markdown",
   "metadata": {},
   "source": [
    "### Données aide alimentaire"
   ]
  },
  {
   "cell_type": "code",
   "execution_count": 10,
   "metadata": {
    "scrolled": true
   },
   "outputs": [],
   "source": [
    "# import_amount food help data to dataframe\n",
    "df_foods_help = import_csv_to_dataframe(\"aide_alimentaire.csv\")\n",
    "\n",
    "# Change colums names\n",
    "df_foods_help.rename(\n",
    "    columns = HELP_COL_NAMES,\n",
    "    inplace = True\n",
    ")"
   ]
  },
  {
   "cell_type": "code",
   "execution_count": 11,
   "metadata": {
    "tags": []
   },
   "outputs": [
    {
     "data": {
      "text/html": [
       "<div>\n",
       "<style scoped>\n",
       "    .dataframe tbody tr th:only-of-type {\n",
       "        vertical-align: middle;\n",
       "    }\n",
       "\n",
       "    .dataframe tbody tr th {\n",
       "        vertical-align: top;\n",
       "    }\n",
       "\n",
       "    .dataframe thead th {\n",
       "        text-align: right;\n",
       "    }\n",
       "</style>\n",
       "<table border=\"1\" class=\"dataframe\">\n",
       "  <thead>\n",
       "    <tr style=\"text-align: right;\">\n",
       "      <th></th>\n",
       "      <th>country</th>\n",
       "      <th>year</th>\n",
       "      <th>product</th>\n",
       "      <th>help_product_value</th>\n",
       "    </tr>\n",
       "  </thead>\n",
       "  <tbody>\n",
       "    <tr>\n",
       "      <th>1267</th>\n",
       "      <td>Soudan</td>\n",
       "      <td>2015</td>\n",
       "      <td>Autres non-céréales</td>\n",
       "      <td>255</td>\n",
       "    </tr>\n",
       "    <tr>\n",
       "      <th>54</th>\n",
       "      <td>Algérie</td>\n",
       "      <td>2016</td>\n",
       "      <td>Sucre, total</td>\n",
       "      <td>360</td>\n",
       "    </tr>\n",
       "    <tr>\n",
       "      <th>709</th>\n",
       "      <td>Libéria</td>\n",
       "      <td>2013</td>\n",
       "      <td>Riz, total</td>\n",
       "      <td>8060</td>\n",
       "    </tr>\n",
       "    <tr>\n",
       "      <th>605</th>\n",
       "      <td>Jordanie</td>\n",
       "      <td>2015</td>\n",
       "      <td>Céréales</td>\n",
       "      <td>1370</td>\n",
       "    </tr>\n",
       "    <tr>\n",
       "      <th>1018</th>\n",
       "      <td>République arabe syrienne</td>\n",
       "      <td>2013</td>\n",
       "      <td>Huiles végétales</td>\n",
       "      <td>27721</td>\n",
       "    </tr>\n",
       "  </tbody>\n",
       "</table>\n",
       "</div>"
      ],
      "text/plain": [
       "                        country  year              product  help_product_value\n",
       "1267                     Soudan  2015  Autres non-céréales                 255\n",
       "54                      Algérie  2016         Sucre, total                 360\n",
       "709                     Libéria  2013           Riz, total                8060\n",
       "605                    Jordanie  2015             Céréales                1370\n",
       "1018  République arabe syrienne  2013     Huiles végétales               27721"
      ]
     },
     "metadata": {},
     "output_type": "display_data"
    }
   ],
   "source": [
    "display(df_foods_help.sample(5))"
   ]
  },
  {
   "cell_type": "markdown",
   "metadata": {},
   "source": [
    "***\n",
    "## Vérification des données"
   ]
  },
  {
   "cell_type": "markdown",
   "metadata": {},
   "source": [
    "### Cohérence taille population"
   ]
  },
  {
   "cell_type": "markdown",
   "metadata": {},
   "source": [
    "Vérification de l'intégrité des données provenant du fichier 'population'."
   ]
  },
  {
   "cell_type": "code",
   "execution_count": 12,
   "metadata": {
    "tags": []
   },
   "outputs": [
    {
     "name": "stdout",
     "output_type": "stream",
     "text": [
      "\n",
      "Population totale :\n",
      "- 236 pays\n",
      "- fichier population : 7,548,134,111.0\n",
      "- population mondiale communiquée : 7,500,000,000\n",
      "Gap : -0.006376954925834344\n",
      "\n"
     ]
    }
   ],
   "source": [
    "df_pop_2017 = df_pop.loc[df_pop['year'] == 2017]\n",
    "\n",
    "nb_unique_country_pop = len(df_pop_2017.country.unique())\n",
    "total_pop_size = df_pop_2017['pop_size'].sum()\n",
    "gap_world_pop_size = (WEB_WORLD_POP_SIZE_2017 / total_pop_size) - 1\n",
    "\n",
    "print(f\"\"\"\n",
    "Population totale :\n",
    "- {nb_unique_country_pop} pays\n",
    "- fichier population : {total_pop_size:,}\n",
    "- population mondiale communiquée : {WEB_WORLD_POP_SIZE_2017:,}\n",
    "Gap : {gap_world_pop_size}\n",
    "\"\"\")"
   ]
  },
  {
   "cell_type": "markdown",
   "metadata": {},
   "source": [
    "L'écart de taille de population entre les données du fichier et la valeur officiel est négligeable.  \n",
    "Les données de taille de population sont cohérents.  "
   ]
  },
  {
   "cell_type": "markdown",
   "metadata": {},
   "source": [
    "### Vérification données sous-nutrition"
   ]
  },
  {
   "cell_type": "code",
   "execution_count": 13,
   "metadata": {
    "tags": []
   },
   "outputs": [
    {
     "name": "stdout",
     "output_type": "stream",
     "text": [
      "Les données de sous-nutrition pour 2017 concernent 203 pays.\n"
     ]
    }
   ],
   "source": [
    "df_under_nourish_2017 = df_under_nourish.loc[df_under_nourish['year'] == 2017]\n",
    "nb_unique_country_under_nourish = len(df_under_nourish_2017.country.unique())\n",
    "\n",
    "print(f\"\"\"Les données de sous-nutrition pour 2017 concernent {nb_unique_country_under_nourish} pays.\"\"\")"
   ]
  },
  {
   "cell_type": "markdown",
   "metadata": {},
   "source": [
    "### Vérification données disponibilité alimentaire"
   ]
  },
  {
   "cell_type": "code",
   "execution_count": 14,
   "metadata": {
    "tags": []
   },
   "outputs": [
    {
     "name": "stdout",
     "output_type": "stream",
     "text": [
      "Les données de disponibilité alimentaire concernent 174 pays.\n"
     ]
    }
   ],
   "source": [
    "nb_unique_country_food_avl = len(df_foods_avl.country.unique())\n",
    "\n",
    "print(f\"\"\"Les données de disponibilité alimentaire concernent {nb_unique_country_food_avl} pays.\"\"\")"
   ]
  },
  {
   "cell_type": "markdown",
   "metadata": {
    "tags": []
   },
   "source": [
    "### Vérification données aide alimentaire"
   ]
  },
  {
   "cell_type": "code",
   "execution_count": 15,
   "metadata": {
    "tags": []
   },
   "outputs": [
    {
     "name": "stdout",
     "output_type": "stream",
     "text": [
      "Les données d'aide alimentaire concernent 76 pays.\n"
     ]
    }
   ],
   "source": [
    "nb_unique_country_food_help = len(df_foods_help.country.unique())\n",
    "\n",
    "print(f\"\"\"Les données d'aide alimentaire concernent {nb_unique_country_food_help} pays.\"\"\")"
   ]
  },
  {
   "cell_type": "markdown",
   "metadata": {},
   "source": [
    "### Remarque sur les données\n",
    "Nous n'avons pas de données de disponibilité alimentaire pour tous les pays. Nous allons donc travailler sur un échantillion et appliquer les résultats sur la population mondiale réelle."
   ]
  },
  {
   "cell_type": "markdown",
   "metadata": {},
   "source": [
    "## Besoins journaliers recommandés"
   ]
  },
  {
   "cell_type": "markdown",
   "metadata": {},
   "source": [
    "Le poids moyen d'un adulte est de **62 kg**. *(Source - BMC Public Health [www.https://bmcpublichealth.biomedcentral.com](https://bmcpublichealth.biomedcentral.com/articles/10.1186/1471-2458-12-439 \"titre de lien optionnel\"). )*\n",
    "\n",
    "Le besoin moyen en kcal est de **2500 kcal / jour** . *(Source - BMC Public Health [www.ncbi.nlm.nih.gov/](https://www.ncbi.nlm.nih.gov/books/NBK234938/ \"titre de lien optionnel\"). )*\n",
    "\n",
    "La référence nutritionnelle en protéines des adultes en bonne santé (RNP) est de **0,83 g / kg / jour** .\n",
    "*(Source - anses [www.anses.fr](https://www.anses.fr/fr/content/les-prot%C3%A9ines#:~:text=Les%20recommandations%20de%20l'Agence,83%20g%2Fkg%2Fj. \"titre de lien optionnel\"). )*"
   ]
  },
  {
   "cell_type": "code",
   "execution_count": 16,
   "metadata": {
    "scrolled": true
   },
   "outputs": [],
   "source": [
    "# kcal need by year\n",
    "KCAL_NEED = 2500 * 365\n",
    "\n",
    "# protein need by year\n",
    "PROTEIN_NEED = 0.83 * 62 * 365"
   ]
  },
  {
   "cell_type": "markdown",
   "metadata": {},
   "source": [
    "***\n",
    "# Sous-nutrition"
   ]
  },
  {
   "cell_type": "markdown",
   "metadata": {},
   "source": [
    "## Proportion de personnes en état de sous-nutrition en 2017"
   ]
  },
  {
   "cell_type": "markdown",
   "metadata": {},
   "source": [
    "### Pays pour lesquels la proportion de personnes sous-alimentées est la plus forte en 2017"
   ]
  },
  {
   "cell_type": "code",
   "execution_count": 17,
   "metadata": {
    "tags": []
   },
   "outputs": [],
   "source": [
    "df_under_nourish_pop = pd.merge(df_under_nourish_2017, df_pop_2017)\n",
    "\n",
    "# Under-nutrition by zone\n",
    "df_under_nourish_pop[\"prop_under_nourish\"] = prop(df_under_nourish_pop[\"nb_under_nourish\"], df_under_nourish_pop[\"pop_size\"])\n",
    "df_under_nourish_pop[\"is_under_nourish\"] = df_under_nourish_pop[\"nb_under_nourish\"] > 0\n",
    "\n",
    "df_under_nourish_pop = df_under_nourish_pop.sort_values([\"prop_under_nourish\"], ascending=False)"
   ]
  },
  {
   "cell_type": "code",
   "execution_count": 18,
   "metadata": {},
   "outputs": [
    {
     "data": {
      "text/html": [
       "<div>\n",
       "<style scoped>\n",
       "    .dataframe tbody tr th:only-of-type {\n",
       "        vertical-align: middle;\n",
       "    }\n",
       "\n",
       "    .dataframe tbody tr th {\n",
       "        vertical-align: top;\n",
       "    }\n",
       "\n",
       "    .dataframe thead th {\n",
       "        text-align: right;\n",
       "    }\n",
       "</style>\n",
       "<table border=\"1\" class=\"dataframe\">\n",
       "  <thead>\n",
       "    <tr style=\"text-align: right;\">\n",
       "      <th></th>\n",
       "      <th>country</th>\n",
       "      <th>year</th>\n",
       "      <th>nb_under_nourish</th>\n",
       "      <th>pop_size</th>\n",
       "      <th>prop_under_nourish</th>\n",
       "      <th>is_under_nourish</th>\n",
       "    </tr>\n",
       "  </thead>\n",
       "  <tbody>\n",
       "    <tr>\n",
       "      <th>78</th>\n",
       "      <td>Haïti</td>\n",
       "      <td>2017</td>\n",
       "      <td>5,300,000.00</td>\n",
       "      <td>10,982,366.00</td>\n",
       "      <td>48.26</td>\n",
       "      <td>True</td>\n",
       "    </tr>\n",
       "    <tr>\n",
       "      <th>157</th>\n",
       "      <td>République populaire démocratique de Corée</td>\n",
       "      <td>2017</td>\n",
       "      <td>12,000,000.00</td>\n",
       "      <td>25,429,825.00</td>\n",
       "      <td>47.19</td>\n",
       "      <td>True</td>\n",
       "    </tr>\n",
       "    <tr>\n",
       "      <th>108</th>\n",
       "      <td>Madagascar</td>\n",
       "      <td>2017</td>\n",
       "      <td>10,500,000.00</td>\n",
       "      <td>25,570,512.00</td>\n",
       "      <td>41.06</td>\n",
       "      <td>True</td>\n",
       "    </tr>\n",
       "    <tr>\n",
       "      <th>103</th>\n",
       "      <td>Libéria</td>\n",
       "      <td>2017</td>\n",
       "      <td>1,800,000.00</td>\n",
       "      <td>4,702,226.00</td>\n",
       "      <td>38.28</td>\n",
       "      <td>True</td>\n",
       "    </tr>\n",
       "    <tr>\n",
       "      <th>100</th>\n",
       "      <td>Lesotho</td>\n",
       "      <td>2017</td>\n",
       "      <td>800,000.00</td>\n",
       "      <td>2,091,534.00</td>\n",
       "      <td>38.25</td>\n",
       "      <td>True</td>\n",
       "    </tr>\n",
       "    <tr>\n",
       "      <th>183</th>\n",
       "      <td>Tchad</td>\n",
       "      <td>2017</td>\n",
       "      <td>5,700,000.00</td>\n",
       "      <td>15,016,753.00</td>\n",
       "      <td>37.96</td>\n",
       "      <td>True</td>\n",
       "    </tr>\n",
       "    <tr>\n",
       "      <th>161</th>\n",
       "      <td>Rwanda</td>\n",
       "      <td>2017</td>\n",
       "      <td>4,200,000.00</td>\n",
       "      <td>11,980,961.00</td>\n",
       "      <td>35.06</td>\n",
       "      <td>True</td>\n",
       "    </tr>\n",
       "    <tr>\n",
       "      <th>121</th>\n",
       "      <td>Mozambique</td>\n",
       "      <td>2017</td>\n",
       "      <td>9,400,000.00</td>\n",
       "      <td>28,649,018.00</td>\n",
       "      <td>32.81</td>\n",
       "      <td>True</td>\n",
       "    </tr>\n",
       "    <tr>\n",
       "      <th>186</th>\n",
       "      <td>Timor-Leste</td>\n",
       "      <td>2017</td>\n",
       "      <td>400,000.00</td>\n",
       "      <td>1,243,258.00</td>\n",
       "      <td>32.17</td>\n",
       "      <td>True</td>\n",
       "    </tr>\n",
       "    <tr>\n",
       "      <th>0</th>\n",
       "      <td>Afghanistan</td>\n",
       "      <td>2017</td>\n",
       "      <td>10,500,000.00</td>\n",
       "      <td>36,296,113.00</td>\n",
       "      <td>28.93</td>\n",
       "      <td>True</td>\n",
       "    </tr>\n",
       "  </tbody>\n",
       "</table>\n",
       "</div>"
      ],
      "text/plain": [
       "                                        country  year  nb_under_nourish  \\\n",
       "78                                        Haïti  2017      5,300,000.00   \n",
       "157  République populaire démocratique de Corée  2017     12,000,000.00   \n",
       "108                                  Madagascar  2017     10,500,000.00   \n",
       "103                                     Libéria  2017      1,800,000.00   \n",
       "100                                     Lesotho  2017        800,000.00   \n",
       "183                                       Tchad  2017      5,700,000.00   \n",
       "161                                      Rwanda  2017      4,200,000.00   \n",
       "121                                  Mozambique  2017      9,400,000.00   \n",
       "186                                 Timor-Leste  2017        400,000.00   \n",
       "0                                   Afghanistan  2017     10,500,000.00   \n",
       "\n",
       "         pop_size  prop_under_nourish  is_under_nourish  \n",
       "78  10,982,366.00               48.26              True  \n",
       "157 25,429,825.00               47.19              True  \n",
       "108 25,570,512.00               41.06              True  \n",
       "103  4,702,226.00               38.28              True  \n",
       "100  2,091,534.00               38.25              True  \n",
       "183 15,016,753.00               37.96              True  \n",
       "161 11,980,961.00               35.06              True  \n",
       "121 28,649,018.00               32.81              True  \n",
       "186  1,243,258.00               32.17              True  \n",
       "0   36,296,113.00               28.93              True  "
      ]
     },
     "metadata": {},
     "output_type": "display_data"
    }
   ],
   "source": [
    "display(df_under_nourish_pop.head(10))"
   ]
  },
  {
   "cell_type": "markdown",
   "metadata": {},
   "source": [
    "Les pays les plus touchés par le sous-nutrition sont localisés principalement en Afrique et au moyen-orient."
   ]
  },
  {
   "cell_type": "markdown",
   "metadata": {},
   "source": [
    "### Proportion mondiale de personnes en état de sous-nutrition en 2017"
   ]
  },
  {
   "cell_type": "code",
   "execution_count": 19,
   "metadata": {
    "scrolled": true
   },
   "outputs": [],
   "source": [
    "# World proportion\n",
    "total_nb_under_nourish = df_under_nourish_pop[\"nb_under_nourish\"].sum().astype(int)\n",
    "prop_world_under_nourish = prop(total_nb_under_nourish, total_pop_size)"
   ]
  },
  {
   "cell_type": "code",
   "execution_count": 20,
   "metadata": {
    "tags": []
   },
   "outputs": [
    {
     "data": {
      "image/png": "[encoded data removed]",
      "text/plain": [
       "<Figure size 360x360 with 1 Axes>"
      ]
     },
     "metadata": {},
     "output_type": "display_data"
    },
    {
     "name": "stdout",
     "output_type": "stream",
     "text": [
      "\n",
      "Peronnes en état de sous-nutrition en 2017: 535,900,000\n",
      "Soit 7.1% de la population mondiale.\n",
      "\n"
     ]
    }
   ],
   "source": [
    "# chart\n",
    "pie, ax = plt.subplots(figsize=[5,5])\n",
    "labels = ['Personnes avec une bonne nutrition', 'Personnes en état de sous-nutrition']\n",
    "values = [100 - prop_world_under_nourish, prop_world_under_nourish]\n",
    "colors = ['#99C3FF','#87C0DB']\n",
    "plt.pie(x=values, autopct=\"%.1f%%\", explode=[0.04]*2, labels=labels, pctdistance=0.5, radius=1.2, textprops=dict(size=14), colors=colors)\n",
    "plt.title(\"Proportion mondiale de personnes en état de sous-nutrition en 2017\", fontsize=18, pad=40)\n",
    "plt.show()\n",
    "\n",
    "# results\n",
    "print(f\"\"\"\n",
    "Peronnes en état de sous-nutrition en 2017: {total_nb_under_nourish:,}\n",
    "Soit {prop_world_under_nourish}% de la population mondiale.\n",
    "\"\"\")"
   ]
  },
  {
   "cell_type": "markdown",
   "metadata": {},
   "source": [
    "### Conclusion\n",
    "La proportion de personnes en état de sous nutrition est de 7.1%. On peut donc se poser comme questions :\n",
    "- Es-ce que la nourriture disponible dans le monde est suffisante ?\n",
    "- Quels sont les pays les plus touchés ?\n",
    "- Comment se découpe cette disponibilité pour ces pays ?"
   ]
  },
  {
   "cell_type": "markdown",
   "metadata": {},
   "source": [
    "***\n",
    "\n",
    "## Nombre théorique de personnes qui pourraient être nourries"
   ]
  },
  {
   "cell_type": "markdown",
   "metadata": {},
   "source": [
    "### Disponibilité alimentaire par pays"
   ]
  },
  {
   "cell_type": "code",
   "execution_count": 21,
   "metadata": {
    "tags": []
   },
   "outputs": [],
   "source": [
    "df_food_avl_by_country = df_foods_avl.groupby(['country']).sum()\n",
    "df_food_avl_by_country = df_food_avl_by_country.merge(df_pop_2017[['country','pop_size']], on='country')\n",
    "\n",
    "# total population of sample\n",
    "total_pop_sample = df_food_avl_by_country[\"pop_size\"].sum()"
   ]
  },
  {
   "cell_type": "code",
   "execution_count": 22,
   "metadata": {},
   "outputs": [
    {
     "data": {
      "text/html": [
       "<div>\n",
       "<style scoped>\n",
       "    .dataframe tbody tr th:only-of-type {\n",
       "        vertical-align: middle;\n",
       "    }\n",
       "\n",
       "    .dataframe tbody tr th {\n",
       "        vertical-align: top;\n",
       "    }\n",
       "\n",
       "    .dataframe thead th {\n",
       "        text-align: right;\n",
       "    }\n",
       "</style>\n",
       "<table border=\"1\" class=\"dataframe\">\n",
       "  <thead>\n",
       "    <tr style=\"text-align: right;\">\n",
       "      <th></th>\n",
       "      <th>country</th>\n",
       "      <th>production</th>\n",
       "      <th>import_amount</th>\n",
       "      <th>export_amount</th>\n",
       "      <th>stock_variation</th>\n",
       "      <th>domestic_amount</th>\n",
       "      <th>food_amount_kg_avl</th>\n",
       "      <th>food_supply_kcal_avl</th>\n",
       "      <th>prot_amount_g_avl</th>\n",
       "      <th>fat_supply_g_avl</th>\n",
       "      <th>food_amount</th>\n",
       "      <th>food_for_animals</th>\n",
       "      <th>other_use</th>\n",
       "      <th>losses</th>\n",
       "      <th>seed</th>\n",
       "      <th>processing</th>\n",
       "      <th>is_cereals</th>\n",
       "      <th>pop_size</th>\n",
       "    </tr>\n",
       "  </thead>\n",
       "  <tbody>\n",
       "    <tr>\n",
       "      <th>0</th>\n",
       "      <td>Afghanistan</td>\n",
       "      <td>11,171.00</td>\n",
       "      <td>2,988.00</td>\n",
       "      <td>278.00</td>\n",
       "      <td>-368.00</td>\n",
       "      <td>13,515.00</td>\n",
       "      <td>351.41</td>\n",
       "      <td>2,087.00</td>\n",
       "      <td>58.26</td>\n",
       "      <td>33.50</td>\n",
       "      <td>10,735.00</td>\n",
       "      <td>768.00</td>\n",
       "      <td>415.00</td>\n",
       "      <td>1,135.00</td>\n",
       "      <td>395.00</td>\n",
       "      <td>63.00</td>\n",
       "      <td>6</td>\n",
       "      <td>36,296,113.00</td>\n",
       "    </tr>\n",
       "    <tr>\n",
       "      <th>1</th>\n",
       "      <td>Afrique du Sud</td>\n",
       "      <td>63,263.00</td>\n",
       "      <td>7,517.00</td>\n",
       "      <td>11,674.00</td>\n",
       "      <td>2,153.00</td>\n",
       "      <td>61,256.00</td>\n",
       "      <td>564.80</td>\n",
       "      <td>3,020.00</td>\n",
       "      <td>85.33</td>\n",
       "      <td>83.58</td>\n",
       "      <td>29,812.00</td>\n",
       "      <td>5,309.00</td>\n",
       "      <td>876.00</td>\n",
       "      <td>2,193.00</td>\n",
       "      <td>253.00</td>\n",
       "      <td>22,819.00</td>\n",
       "      <td>9</td>\n",
       "      <td>57,009,756.00</td>\n",
       "    </tr>\n",
       "    <tr>\n",
       "      <th>2</th>\n",
       "      <td>Albanie</td>\n",
       "      <td>3,964.00</td>\n",
       "      <td>933.00</td>\n",
       "      <td>94.00</td>\n",
       "      <td>-45.00</td>\n",
       "      <td>4,758.00</td>\n",
       "      <td>1,095.54</td>\n",
       "      <td>3,188.00</td>\n",
       "      <td>111.37</td>\n",
       "      <td>106.48</td>\n",
       "      <td>3,476.00</td>\n",
       "      <td>660.00</td>\n",
       "      <td>174.00</td>\n",
       "      <td>276.00</td>\n",
       "      <td>55.00</td>\n",
       "      <td>113.00</td>\n",
       "      <td>9</td>\n",
       "      <td>2,884,169.00</td>\n",
       "    </tr>\n",
       "    <tr>\n",
       "      <th>3</th>\n",
       "      <td>Algérie</td>\n",
       "      <td>26,359.00</td>\n",
       "      <td>17,403.00</td>\n",
       "      <td>655.00</td>\n",
       "      <td>-479.00</td>\n",
       "      <td>42,630.00</td>\n",
       "      <td>809.13</td>\n",
       "      <td>3,293.00</td>\n",
       "      <td>91.92</td>\n",
       "      <td>76.48</td>\n",
       "      <td>31,729.00</td>\n",
       "      <td>4,352.00</td>\n",
       "      <td>1,707.00</td>\n",
       "      <td>3,753.00</td>\n",
       "      <td>449.00</td>\n",
       "      <td>637.00</td>\n",
       "      <td>9</td>\n",
       "      <td>41,389,189.00</td>\n",
       "    </tr>\n",
       "    <tr>\n",
       "      <th>4</th>\n",
       "      <td>Allemagne</td>\n",
       "      <td>154,547.00</td>\n",
       "      <td>65,353.00</td>\n",
       "      <td>57,431.00</td>\n",
       "      <td>-192.00</td>\n",
       "      <td>162,275.00</td>\n",
       "      <td>957.52</td>\n",
       "      <td>3,503.00</td>\n",
       "      <td>101.39</td>\n",
       "      <td>141.62</td>\n",
       "      <td>79,238.00</td>\n",
       "      <td>30,209.00</td>\n",
       "      <td>7,711.00</td>\n",
       "      <td>3,781.00</td>\n",
       "      <td>1,551.00</td>\n",
       "      <td>39,842.00</td>\n",
       "      <td>9</td>\n",
       "      <td>82,658,409.00</td>\n",
       "    </tr>\n",
       "  </tbody>\n",
       "</table>\n",
       "</div>"
      ],
      "text/plain": [
       "          country  production  import_amount  export_amount  stock_variation  \\\n",
       "0     Afghanistan   11,171.00       2,988.00         278.00          -368.00   \n",
       "1  Afrique du Sud   63,263.00       7,517.00      11,674.00         2,153.00   \n",
       "2         Albanie    3,964.00         933.00          94.00           -45.00   \n",
       "3         Algérie   26,359.00      17,403.00         655.00          -479.00   \n",
       "4       Allemagne  154,547.00      65,353.00      57,431.00          -192.00   \n",
       "\n",
       "   domestic_amount  food_amount_kg_avl  food_supply_kcal_avl  \\\n",
       "0        13,515.00              351.41              2,087.00   \n",
       "1        61,256.00              564.80              3,020.00   \n",
       "2         4,758.00            1,095.54              3,188.00   \n",
       "3        42,630.00              809.13              3,293.00   \n",
       "4       162,275.00              957.52              3,503.00   \n",
       "\n",
       "   prot_amount_g_avl  fat_supply_g_avl  food_amount  food_for_animals  \\\n",
       "0              58.26             33.50    10,735.00            768.00   \n",
       "1              85.33             83.58    29,812.00          5,309.00   \n",
       "2             111.37            106.48     3,476.00            660.00   \n",
       "3              91.92             76.48    31,729.00          4,352.00   \n",
       "4             101.39            141.62    79,238.00         30,209.00   \n",
       "\n",
       "   other_use   losses     seed  processing  is_cereals      pop_size  \n",
       "0     415.00 1,135.00   395.00       63.00           6 36,296,113.00  \n",
       "1     876.00 2,193.00   253.00   22,819.00           9 57,009,756.00  \n",
       "2     174.00   276.00    55.00      113.00           9  2,884,169.00  \n",
       "3   1,707.00 3,753.00   449.00      637.00           9 41,389,189.00  \n",
       "4   7,711.00 3,781.00 1,551.00   39,842.00           9 82,658,409.00  "
      ]
     },
     "metadata": {},
     "output_type": "display_data"
    }
   ],
   "source": [
    "display(df_food_avl_by_country.head(5))"
   ]
  },
  {
   "cell_type": "markdown",
   "metadata": {},
   "source": [
    "* Rappel sur les données :  \n",
    "Nous n'avons pas de données de disponibilité alimentaire pour tous les pays correspondant au fichier \"Population\". Nous allons donc travailler sur un échantillion et appliquer les résultats sur la population mondiale réelle."
   ]
  },
  {
   "cell_type": "markdown",
   "metadata": {},
   "source": [
    "### Calcul total en kcal disponibles"
   ]
  },
  {
   "cell_type": "code",
   "execution_count": 23,
   "metadata": {
    "scrolled": true
   },
   "outputs": [],
   "source": [
    "df_total_food_supply = df_food_avl_by_country[['country', 'pop_size', 'food_supply_kcal_avl']].copy()\n",
    "\n",
    "# total kcal per year by country\n",
    "df_total_food_supply['total_food_supply'] = df_total_food_supply['food_supply_kcal_avl'] * 365 * df_total_food_supply['pop_size']\n",
    "\n",
    "# total world kcal\n",
    "world_total_food_supply = round(df_total_food_supply[\"total_food_supply\"].sum())\n",
    "\n",
    "# total population could be fed by country\n",
    "df_total_food_supply['nb_people_could_be_fed_kcal'] = df_total_food_supply['total_food_supply'] / KCAL_NEED\n",
    "\n",
    "# total sample population could be fed by kcal\n",
    "total_pop_could_be_fed_kcal = round(df_total_food_supply[\"nb_people_could_be_fed_kcal\"].sum())\n",
    "\n",
    "# proportion of peoples could be fed\n",
    "prop_pop_could_be_fed_kcal = total_pop_could_be_fed_kcal / total_pop_sample\n",
    "\n",
    "# total world population could be fed by kcal\n",
    "world_total_pop_could_be_fed_kcal = round(prop_pop_could_be_fed_kcal * total_pop_size)"
   ]
  },
  {
   "cell_type": "code",
   "execution_count": 24,
   "metadata": {
    "tags": []
   },
   "outputs": [
    {
     "data": {
      "text/html": [
       "<div>\n",
       "<style scoped>\n",
       "    .dataframe tbody tr th:only-of-type {\n",
       "        vertical-align: middle;\n",
       "    }\n",
       "\n",
       "    .dataframe tbody tr th {\n",
       "        vertical-align: top;\n",
       "    }\n",
       "\n",
       "    .dataframe thead th {\n",
       "        text-align: right;\n",
       "    }\n",
       "</style>\n",
       "<table border=\"1\" class=\"dataframe\">\n",
       "  <thead>\n",
       "    <tr style=\"text-align: right;\">\n",
       "      <th></th>\n",
       "      <th>country</th>\n",
       "      <th>pop_size</th>\n",
       "      <th>food_supply_kcal_avl</th>\n",
       "      <th>total_food_supply</th>\n",
       "      <th>nb_people_could_be_fed_kcal</th>\n",
       "    </tr>\n",
       "  </thead>\n",
       "  <tbody>\n",
       "    <tr>\n",
       "      <th>0</th>\n",
       "      <td>Afghanistan</td>\n",
       "      <td>36,296,113.00</td>\n",
       "      <td>2,087.00</td>\n",
       "      <td>27,648,745,558,315.00</td>\n",
       "      <td>30,299,995.13</td>\n",
       "    </tr>\n",
       "    <tr>\n",
       "      <th>1</th>\n",
       "      <td>Afrique du Sud</td>\n",
       "      <td>57,009,756.00</td>\n",
       "      <td>3,020.00</td>\n",
       "      <td>62,841,854,038,800.00</td>\n",
       "      <td>68,867,785.25</td>\n",
       "    </tr>\n",
       "    <tr>\n",
       "      <th>2</th>\n",
       "      <td>Albanie</td>\n",
       "      <td>2,884,169.00</td>\n",
       "      <td>3,188.00</td>\n",
       "      <td>3,356,076,731,780.00</td>\n",
       "      <td>3,677,892.31</td>\n",
       "    </tr>\n",
       "    <tr>\n",
       "      <th>3</th>\n",
       "      <td>Algérie</td>\n",
       "      <td>41,389,189.00</td>\n",
       "      <td>3,293.00</td>\n",
       "      <td>49,747,528,772,605.00</td>\n",
       "      <td>54,517,839.75</td>\n",
       "    </tr>\n",
       "    <tr>\n",
       "      <th>4</th>\n",
       "      <td>Allemagne</td>\n",
       "      <td>82,658,409.00</td>\n",
       "      <td>3,503.00</td>\n",
       "      <td>105,686,628,455,355.00</td>\n",
       "      <td>115,820,962.69</td>\n",
       "    </tr>\n",
       "  </tbody>\n",
       "</table>\n",
       "</div>"
      ],
      "text/plain": [
       "          country      pop_size  food_supply_kcal_avl      total_food_supply  \\\n",
       "0     Afghanistan 36,296,113.00              2,087.00  27,648,745,558,315.00   \n",
       "1  Afrique du Sud 57,009,756.00              3,020.00  62,841,854,038,800.00   \n",
       "2         Albanie  2,884,169.00              3,188.00   3,356,076,731,780.00   \n",
       "3         Algérie 41,389,189.00              3,293.00  49,747,528,772,605.00   \n",
       "4       Allemagne 82,658,409.00              3,503.00 105,686,628,455,355.00   \n",
       "\n",
       "   nb_people_could_be_fed_kcal  \n",
       "0                30,299,995.13  \n",
       "1                68,867,785.25  \n",
       "2                 3,677,892.31  \n",
       "3                54,517,839.75  \n",
       "4               115,820,962.69  "
      ]
     },
     "metadata": {},
     "output_type": "display_data"
    },
    {
     "name": "stdout",
     "output_type": "stream",
     "text": [
      "\n",
      "Total de kcal alimentaires disponibles (échantillon) : 7,635,429,388,975,815\n",
      "Nombre de personne pouvant être nourrie en kcal : 8,661,626,378 (114.8%)\n",
      "\n"
     ]
    }
   ],
   "source": [
    "display(df_total_food_supply.head(5))\n",
    "\n",
    "print(f\"\"\"\n",
    "Total de kcal alimentaires disponibles (échantillon) : {world_total_food_supply:,}\n",
    "Nombre de personne pouvant être nourrie en kcal : {world_total_pop_could_be_fed_kcal:,} ({prop_pop_could_be_fed_kcal:.01%})\n",
    "\"\"\")"
   ]
  },
  {
   "cell_type": "markdown",
   "metadata": {},
   "source": [
    "### Calcul total en proteine disponible"
   ]
  },
  {
   "cell_type": "code",
   "execution_count": 25,
   "metadata": {
    "scrolled": true
   },
   "outputs": [],
   "source": [
    "df_total_protein = df_food_avl_by_country[['country', 'prot_amount_g_avl', 'pop_size']].copy()\n",
    "\n",
    "# total kcal per year by country\n",
    "df_total_protein['total_protein'] = round(df_total_protein['prot_amount_g_avl'] * 365 * df_total_protein['pop_size'])\n",
    "\n",
    "# total world protein\n",
    "world_total_protein = round(df_total_protein[\"total_protein\"].sum())\n",
    "\n",
    "# total population could be fed by country\n",
    "df_total_protein['nb_people_could_be_fed_prot'] = df_total_protein['total_protein'] / PROTEIN_NEED\n",
    "\n",
    "# total sample population could be fed by protein\n",
    "total_pop_could_be_fed_prot = round(df_total_protein[\"nb_people_could_be_fed_prot\"].sum())\n",
    "\n",
    "# proportion of peoples could be fed\n",
    "prop_pop_could_be_fed_prot = total_pop_could_be_fed_prot / total_pop_sample\n",
    "\n",
    "# total world population could be fed by protein\n",
    "world_total_pop_could_be_fed_prot = round(prop_pop_could_be_fed_prot * total_pop_size)"
   ]
  },
  {
   "cell_type": "code",
   "execution_count": 26,
   "metadata": {
    "tags": []
   },
   "outputs": [
    {
     "data": {
      "text/html": [
       "<div>\n",
       "<style scoped>\n",
       "    .dataframe tbody tr th:only-of-type {\n",
       "        vertical-align: middle;\n",
       "    }\n",
       "\n",
       "    .dataframe tbody tr th {\n",
       "        vertical-align: top;\n",
       "    }\n",
       "\n",
       "    .dataframe thead th {\n",
       "        text-align: right;\n",
       "    }\n",
       "</style>\n",
       "<table border=\"1\" class=\"dataframe\">\n",
       "  <thead>\n",
       "    <tr style=\"text-align: right;\">\n",
       "      <th></th>\n",
       "      <th>country</th>\n",
       "      <th>prot_amount_g_avl</th>\n",
       "      <th>pop_size</th>\n",
       "      <th>total_protein</th>\n",
       "      <th>nb_people_could_be_fed_prot</th>\n",
       "    </tr>\n",
       "  </thead>\n",
       "  <tbody>\n",
       "    <tr>\n",
       "      <th>0</th>\n",
       "      <td>Afghanistan</td>\n",
       "      <td>58.26</td>\n",
       "      <td>36,296,113.00</td>\n",
       "      <td>771,833,213,334.00</td>\n",
       "      <td>41,092,334.69</td>\n",
       "    </tr>\n",
       "    <tr>\n",
       "      <th>1</th>\n",
       "      <td>Afrique du Sud</td>\n",
       "      <td>85.33</td>\n",
       "      <td>57,009,756.00</td>\n",
       "      <td>1,775,594,505,010.00</td>\n",
       "      <td>94,532,500.57</td>\n",
       "    </tr>\n",
       "    <tr>\n",
       "      <th>2</th>\n",
       "      <td>Albanie</td>\n",
       "      <td>111.37</td>\n",
       "      <td>2,884,169.00</td>\n",
       "      <td>117,241,614,058.00</td>\n",
       "      <td>6,241,933.57</td>\n",
       "    </tr>\n",
       "    <tr>\n",
       "      <th>3</th>\n",
       "      <td>Algérie</td>\n",
       "      <td>91.92</td>\n",
       "      <td>41,389,189.00</td>\n",
       "      <td>1,388,640,402,301.00</td>\n",
       "      <td>73,931,097.02</td>\n",
       "    </tr>\n",
       "    <tr>\n",
       "      <th>4</th>\n",
       "      <td>Allemagne</td>\n",
       "      <td>101.39</td>\n",
       "      <td>82,658,409.00</td>\n",
       "      <td>3,058,968,672,306.00</td>\n",
       "      <td>162,859,232.19</td>\n",
       "    </tr>\n",
       "  </tbody>\n",
       "</table>\n",
       "</div>"
      ],
      "text/plain": [
       "          country  prot_amount_g_avl      pop_size        total_protein  \\\n",
       "0     Afghanistan              58.26 36,296,113.00   771,833,213,334.00   \n",
       "1  Afrique du Sud              85.33 57,009,756.00 1,775,594,505,010.00   \n",
       "2         Albanie             111.37  2,884,169.00   117,241,614,058.00   \n",
       "3         Algérie              91.92 41,389,189.00 1,388,640,402,301.00   \n",
       "4       Allemagne             101.39 82,658,409.00 3,058,968,672,306.00   \n",
       "\n",
       "   nb_people_could_be_fed_prot  \n",
       "0                41,092,334.69  \n",
       "1                94,532,500.57  \n",
       "2                 6,241,933.57  \n",
       "3                73,931,097.02  \n",
       "4               162,859,232.19  "
      ]
     },
     "metadata": {},
     "output_type": "display_data"
    },
    {
     "name": "stdout",
     "output_type": "stream",
     "text": [
      "\n",
      "Total de protéines alimentaires disponibles (échantillon) : 214,278,240,885,716\n",
      "Nombre de personne pouvant être nourrie en protéines : 11,809,031,479 (156.4%)\n",
      "\n"
     ]
    }
   ],
   "source": [
    "display(df_total_protein.head(5))\n",
    "\n",
    "print(f\"\"\"\n",
    "Total de protéines alimentaires disponibles (échantillon) : {world_total_protein:,}\n",
    "Nombre de personne pouvant être nourrie en protéines : {world_total_pop_could_be_fed_prot:,} ({prop_pop_could_be_fed_prot:.01%})\n",
    "\"\"\")"
   ]
  },
  {
   "cell_type": "markdown",
   "metadata": {},
   "source": [
    "### Résultats\n",
    "* Pour être nourri et en bonne santé, il faut à la fois avoir suffisament de kcal et de protéines."
   ]
  },
  {
   "cell_type": "code",
   "execution_count": 27,
   "metadata": {
    "scrolled": true
   },
   "outputs": [],
   "source": [
    "# world proportion population could be fed\n",
    "prop_pop_could_be_fed = min(prop_pop_could_be_fed_kcal, prop_pop_could_be_fed_prot)\n",
    "\n",
    "# world population could be fed\n",
    "world_pop_could_be_fed = round(min(world_total_pop_could_be_fed_kcal, world_total_pop_could_be_fed_prot))"
   ]
  },
  {
   "cell_type": "code",
   "execution_count": 28,
   "metadata": {
    "tags": []
   },
   "outputs": [
    {
     "data": {
      "image/png": "[encoded data removed]",
      "text/plain": [
       "<Figure size 216x288 with 1 Axes>"
      ]
     },
     "metadata": {
      "needs_background": "light"
     },
     "output_type": "display_data"
    },
    {
     "name": "stdout",
     "output_type": "stream",
     "text": [
      "\n",
      "Proportion de personnes qui peuvent être nourries: 114.8%\n",
      "Nombre théorique de personne qui peut être nourries dans le monde : 8,661,626,378\n",
      "\n"
     ]
    }
   ],
   "source": [
    "# chart\n",
    "fig = plt.figure(figsize=[3,4])\n",
    "ax = fig.add_axes([0,0,1,1])\n",
    "labels = ['by kcal', 'by proteins']\n",
    "pop_values = [\n",
    "    world_total_pop_could_be_fed_kcal,\n",
    "    world_total_pop_could_be_fed_prot\n",
    "]\n",
    "ax.bar(labels,pop_values, color=['#99C3FF', '#87C0DB'])\n",
    "plt.title(\"Nombre théorique de personnes qui pourraient être nourries\", pad=40, fontsize=18)\n",
    "plt.show()\n",
    "\n",
    "# result\n",
    "print(f\"\"\"\n",
    "Proportion de personnes qui peuvent être nourries: {prop_pop_could_be_fed:.01%}\n",
    "Nombre théorique de personne qui peut être nourries dans le monde : {world_pop_could_be_fed:,}\n",
    "\"\"\")"
   ]
  },
  {
   "cell_type": "markdown",
   "metadata": {},
   "source": [
    "### Conclusion\n",
    "La nourriture disponible dans le monde est suffisante pour nourrir théoriquement toute la population mondiale.  \n",
    "On note une surproduction de protéines qui peut réfléter une indisponibilité de certains pays à des produits végétaux."
   ]
  },
  {
   "cell_type": "markdown",
   "metadata": {},
   "source": [
    "***\n",
    "\n",
    "## Nombre théorique de personnes qui pourraient être nourries avec les végétaux"
   ]
  },
  {
   "cell_type": "markdown",
   "metadata": {},
   "source": [
    "### Disponibilité alimentaire végétale par pays"
   ]
  },
  {
   "cell_type": "code",
   "execution_count": 29,
   "metadata": {
    "tags": []
   },
   "outputs": [],
   "source": [
    "df_veg_foods_avl = df_foods_avl.loc[df_foods_avl['food_origin'] == \"vegetale\"]\n",
    "df_veg_foods_avl_by_country = df_veg_foods_avl.groupby(['country']).sum()\n",
    "df_veg_foods_avl_by_country = df_veg_foods_avl_by_country.merge(df_pop_2017[['country','pop_size']], how='left', on='country')"
   ]
  },
  {
   "cell_type": "code",
   "execution_count": 30,
   "metadata": {},
   "outputs": [
    {
     "data": {
      "text/html": [
       "<div>\n",
       "<style scoped>\n",
       "    .dataframe tbody tr th:only-of-type {\n",
       "        vertical-align: middle;\n",
       "    }\n",
       "\n",
       "    .dataframe tbody tr th {\n",
       "        vertical-align: top;\n",
       "    }\n",
       "\n",
       "    .dataframe thead th {\n",
       "        text-align: right;\n",
       "    }\n",
       "</style>\n",
       "<table border=\"1\" class=\"dataframe\">\n",
       "  <thead>\n",
       "    <tr style=\"text-align: right;\">\n",
       "      <th></th>\n",
       "      <th>country</th>\n",
       "      <th>production</th>\n",
       "      <th>import_amount</th>\n",
       "      <th>export_amount</th>\n",
       "      <th>stock_variation</th>\n",
       "      <th>domestic_amount</th>\n",
       "      <th>food_amount_kg_avl</th>\n",
       "      <th>food_supply_kcal_avl</th>\n",
       "      <th>prot_amount_g_avl</th>\n",
       "      <th>fat_supply_g_avl</th>\n",
       "      <th>food_amount</th>\n",
       "      <th>food_for_animals</th>\n",
       "      <th>other_use</th>\n",
       "      <th>losses</th>\n",
       "      <th>seed</th>\n",
       "      <th>processing</th>\n",
       "      <th>is_cereals</th>\n",
       "      <th>pop_size</th>\n",
       "    </tr>\n",
       "  </thead>\n",
       "  <tbody>\n",
       "    <tr>\n",
       "      <th>0</th>\n",
       "      <td>Afghanistan</td>\n",
       "      <td>8,891.00</td>\n",
       "      <td>2,638.00</td>\n",
       "      <td>278.00</td>\n",
       "      <td>-368.00</td>\n",
       "      <td>10,884.00</td>\n",
       "      <td>271.49</td>\n",
       "      <td>1,871.00</td>\n",
       "      <td>46.05</td>\n",
       "      <td>18.27</td>\n",
       "      <td>8,293.00</td>\n",
       "      <td>645.00</td>\n",
       "      <td>415.00</td>\n",
       "      <td>1,072.00</td>\n",
       "      <td>393.00</td>\n",
       "      <td>63.00</td>\n",
       "      <td>6</td>\n",
       "      <td>36,296,113.00</td>\n",
       "    </tr>\n",
       "    <tr>\n",
       "      <th>1</th>\n",
       "      <td>Afrique du Sud</td>\n",
       "      <td>55,649.00</td>\n",
       "      <td>6,468.00</td>\n",
       "      <td>10,586.00</td>\n",
       "      <td>1,912.00</td>\n",
       "      <td>53,439.00</td>\n",
       "      <td>425.17</td>\n",
       "      <td>2,533.00</td>\n",
       "      <td>48.94</td>\n",
       "      <td>48.92</td>\n",
       "      <td>22,441.00</td>\n",
       "      <td>5,122.00</td>\n",
       "      <td>761.00</td>\n",
       "      <td>2,110.00</td>\n",
       "      <td>186.00</td>\n",
       "      <td>22,819.00</td>\n",
       "      <td>9</td>\n",
       "      <td>57,009,756.00</td>\n",
       "    </tr>\n",
       "    <tr>\n",
       "      <th>2</th>\n",
       "      <td>Albanie</td>\n",
       "      <td>2,609.00</td>\n",
       "      <td>846.00</td>\n",
       "      <td>84.00</td>\n",
       "      <td>-45.00</td>\n",
       "      <td>3,326.00</td>\n",
       "      <td>706.49</td>\n",
       "      <td>2,203.00</td>\n",
       "      <td>51.96</td>\n",
       "      <td>38.76</td>\n",
       "      <td>2,241.00</td>\n",
       "      <td>559.00</td>\n",
       "      <td>172.00</td>\n",
       "      <td>182.00</td>\n",
       "      <td>55.00</td>\n",
       "      <td>113.00</td>\n",
       "      <td>9</td>\n",
       "      <td>2,884,169.00</td>\n",
       "    </tr>\n",
       "    <tr>\n",
       "      <th>3</th>\n",
       "      <td>Algérie</td>\n",
       "      <td>21,964.00</td>\n",
       "      <td>14,672.00</td>\n",
       "      <td>649.00</td>\n",
       "      <td>-479.00</td>\n",
       "      <td>35,510.00</td>\n",
       "      <td>632.35</td>\n",
       "      <td>2,915.00</td>\n",
       "      <td>66.94</td>\n",
       "      <td>54.12</td>\n",
       "      <td>24,797.00</td>\n",
       "      <td>4,352.00</td>\n",
       "      <td>1,706.00</td>\n",
       "      <td>3,587.00</td>\n",
       "      <td>428.00</td>\n",
       "      <td>637.00</td>\n",
       "      <td>9</td>\n",
       "      <td>41,389,189.00</td>\n",
       "    </tr>\n",
       "    <tr>\n",
       "      <th>4</th>\n",
       "      <td>Allemagne</td>\n",
       "      <td>110,926.00</td>\n",
       "      <td>50,642.00</td>\n",
       "      <td>34,454.00</td>\n",
       "      <td>-247.00</td>\n",
       "      <td>126,866.00</td>\n",
       "      <td>568.82</td>\n",
       "      <td>2,461.00</td>\n",
       "      <td>39.90</td>\n",
       "      <td>63.63</td>\n",
       "      <td>47,079.00</td>\n",
       "      <td>28,122.00</td>\n",
       "      <td>6,842.00</td>\n",
       "      <td>3,717.00</td>\n",
       "      <td>1,475.00</td>\n",
       "      <td>39,686.00</td>\n",
       "      <td>9</td>\n",
       "      <td>82,658,409.00</td>\n",
       "    </tr>\n",
       "  </tbody>\n",
       "</table>\n",
       "</div>"
      ],
      "text/plain": [
       "          country  production  import_amount  export_amount  stock_variation  \\\n",
       "0     Afghanistan    8,891.00       2,638.00         278.00          -368.00   \n",
       "1  Afrique du Sud   55,649.00       6,468.00      10,586.00         1,912.00   \n",
       "2         Albanie    2,609.00         846.00          84.00           -45.00   \n",
       "3         Algérie   21,964.00      14,672.00         649.00          -479.00   \n",
       "4       Allemagne  110,926.00      50,642.00      34,454.00          -247.00   \n",
       "\n",
       "   domestic_amount  food_amount_kg_avl  food_supply_kcal_avl  \\\n",
       "0        10,884.00              271.49              1,871.00   \n",
       "1        53,439.00              425.17              2,533.00   \n",
       "2         3,326.00              706.49              2,203.00   \n",
       "3        35,510.00              632.35              2,915.00   \n",
       "4       126,866.00              568.82              2,461.00   \n",
       "\n",
       "   prot_amount_g_avl  fat_supply_g_avl  food_amount  food_for_animals  \\\n",
       "0              46.05             18.27     8,293.00            645.00   \n",
       "1              48.94             48.92    22,441.00          5,122.00   \n",
       "2              51.96             38.76     2,241.00            559.00   \n",
       "3              66.94             54.12    24,797.00          4,352.00   \n",
       "4              39.90             63.63    47,079.00         28,122.00   \n",
       "\n",
       "   other_use   losses     seed  processing  is_cereals      pop_size  \n",
       "0     415.00 1,072.00   393.00       63.00           6 36,296,113.00  \n",
       "1     761.00 2,110.00   186.00   22,819.00           9 57,009,756.00  \n",
       "2     172.00   182.00    55.00      113.00           9  2,884,169.00  \n",
       "3   1,706.00 3,587.00   428.00      637.00           9 41,389,189.00  \n",
       "4   6,842.00 3,717.00 1,475.00   39,686.00           9 82,658,409.00  "
      ]
     },
     "metadata": {},
     "output_type": "display_data"
    }
   ],
   "source": [
    "display(df_veg_foods_avl_by_country.head(5))"
   ]
  },
  {
   "cell_type": "markdown",
   "metadata": {},
   "source": [
    "### Calcul total en proteine et kcal végétales disponibles dans le monde"
   ]
  },
  {
   "cell_type": "code",
   "execution_count": 31,
   "metadata": {
    "scrolled": true
   },
   "outputs": [],
   "source": [
    "df_total_veg = df_veg_foods_avl_by_country[['country', 'pop_size', 'food_supply_kcal_avl', 'prot_amount_g_avl']].copy()\n",
    "\n",
    "# total vegetables kcal per year by country\n",
    "df_total_veg['total_veg_food_kcal'] = round(\n",
    "    df_total_veg['food_supply_kcal_avl'] * df_total_veg['pop_size'] * 365)\n",
    "\n",
    "# total vegetables protein per year by country\n",
    "df_total_veg['total_veg_food_protein'] = round(\n",
    "    df_total_veg['prot_amount_g_avl'] * df_total_veg['pop_size'] * 365)\n",
    "\n",
    "# total world vegetables kcal\n",
    "world_total_veg_kcal = round(df_total_veg[\"total_veg_food_kcal\"].sum())\n",
    "\n",
    "# total world vegetables kcal\n",
    "world_total_veg_protein = round(df_total_veg[\"total_veg_food_protein\"].sum())"
   ]
  },
  {
   "cell_type": "code",
   "execution_count": 32,
   "metadata": {
    "tags": []
   },
   "outputs": [
    {
     "data": {
      "text/html": [
       "<div>\n",
       "<style scoped>\n",
       "    .dataframe tbody tr th:only-of-type {\n",
       "        vertical-align: middle;\n",
       "    }\n",
       "\n",
       "    .dataframe tbody tr th {\n",
       "        vertical-align: top;\n",
       "    }\n",
       "\n",
       "    .dataframe thead th {\n",
       "        text-align: right;\n",
       "    }\n",
       "</style>\n",
       "<table border=\"1\" class=\"dataframe\">\n",
       "  <thead>\n",
       "    <tr style=\"text-align: right;\">\n",
       "      <th></th>\n",
       "      <th>country</th>\n",
       "      <th>pop_size</th>\n",
       "      <th>food_supply_kcal_avl</th>\n",
       "      <th>prot_amount_g_avl</th>\n",
       "      <th>total_veg_food_kcal</th>\n",
       "      <th>total_veg_food_protein</th>\n",
       "    </tr>\n",
       "  </thead>\n",
       "  <tbody>\n",
       "    <tr>\n",
       "      <th>0</th>\n",
       "      <td>Afghanistan</td>\n",
       "      <td>36,296,113.00</td>\n",
       "      <td>1,871.00</td>\n",
       "      <td>46.05</td>\n",
       "      <td>24,787,160,009,395.00</td>\n",
       "      <td>610,074,141,332.00</td>\n",
       "    </tr>\n",
       "    <tr>\n",
       "      <th>1</th>\n",
       "      <td>Afrique du Sud</td>\n",
       "      <td>57,009,756.00</td>\n",
       "      <td>2,533.00</td>\n",
       "      <td>48.94</td>\n",
       "      <td>52,708,084,861,020.00</td>\n",
       "      <td>1,018,370,972,404.00</td>\n",
       "    </tr>\n",
       "    <tr>\n",
       "      <th>2</th>\n",
       "      <td>Albanie</td>\n",
       "      <td>2,884,169.00</td>\n",
       "      <td>2,203.00</td>\n",
       "      <td>51.96</td>\n",
       "      <td>2,319,145,872,055.00</td>\n",
       "      <td>54,699,418,753.00</td>\n",
       "    </tr>\n",
       "    <tr>\n",
       "      <th>3</th>\n",
       "      <td>Algérie</td>\n",
       "      <td>41,389,189.00</td>\n",
       "      <td>2,915.00</td>\n",
       "      <td>66.94</td>\n",
       "      <td>44,037,062,366,275.00</td>\n",
       "      <td>1,011,266,193,756.00</td>\n",
       "    </tr>\n",
       "    <tr>\n",
       "      <th>4</th>\n",
       "      <td>Allemagne</td>\n",
       "      <td>82,658,409.00</td>\n",
       "      <td>2,461.00</td>\n",
       "      <td>39.90</td>\n",
       "      <td>74,249,155,760,385.00</td>\n",
       "      <td>1,203,795,739,472.00</td>\n",
       "    </tr>\n",
       "  </tbody>\n",
       "</table>\n",
       "</div>"
      ],
      "text/plain": [
       "          country      pop_size  food_supply_kcal_avl  prot_amount_g_avl  \\\n",
       "0     Afghanistan 36,296,113.00              1,871.00              46.05   \n",
       "1  Afrique du Sud 57,009,756.00              2,533.00              48.94   \n",
       "2         Albanie  2,884,169.00              2,203.00              51.96   \n",
       "3         Algérie 41,389,189.00              2,915.00              66.94   \n",
       "4       Allemagne 82,658,409.00              2,461.00              39.90   \n",
       "\n",
       "    total_veg_food_kcal  total_veg_food_protein  \n",
       "0 24,787,160,009,395.00      610,074,141,332.00  \n",
       "1 52,708,084,861,020.00    1,018,370,972,404.00  \n",
       "2  2,319,145,872,055.00       54,699,418,753.00  \n",
       "3 44,037,062,366,275.00    1,011,266,193,756.00  \n",
       "4 74,249,155,760,385.00    1,203,795,739,472.00  "
      ]
     },
     "metadata": {},
     "output_type": "display_data"
    },
    {
     "name": "stdout",
     "output_type": "stream",
     "text": [
      "\n",
      "Total de kcal végétales disponible (échantillon) : 6,300,178,937,197,865\n",
      "Total de protéines végétales disponible (échantillon) : 130,688,270,724,305\n",
      "\n"
     ]
    }
   ],
   "source": [
    "display(df_total_veg.head(5))\n",
    "\n",
    "print(f\"\"\"\n",
    "Total de kcal végétales disponible (échantillon) : {world_total_veg_kcal:,}\n",
    "Total de protéines végétales disponible (échantillon) : {world_total_veg_protein:,}\n",
    "\"\"\")"
   ]
  },
  {
   "cell_type": "markdown",
   "metadata": {},
   "source": [
    "### Nombre de personne pouvant être nouris par pays"
   ]
  },
  {
   "cell_type": "code",
   "execution_count": 33,
   "metadata": {
    "scrolled": true
   },
   "outputs": [],
   "source": [
    "# number of people could be fed by vegetables kcal\n",
    "df_total_veg['nb_people_could_be_fed_kcal'] = df_total_veg['total_veg_food_kcal'] / KCAL_NEED\n",
    "\n",
    "# number of people could be fed by vegetebles protein\n",
    "df_total_veg['nb_people_could_be_fed_prot'] = df_total_veg['total_veg_food_protein'] / PROTEIN_NEED\n",
    "\n",
    "# total sample population could be fed\n",
    "total_pop_could_be_fed_kcal_veg = df_total_veg[\"nb_people_could_be_fed_kcal\"].sum()\n",
    "total_pop_could_be_fed_prot_veg = df_total_veg[\"nb_people_could_be_fed_prot\"].sum()\n",
    "total_pop_sample_veg = df_food_avl_by_country[\"pop_size\"].sum()\n",
    "\n",
    "# proportion of peoples could be fed\n",
    "prop_pop_could_be_fed_kcal_veg = total_pop_could_be_fed_kcal_veg / total_pop_sample_veg\n",
    "prop_pop_could_be_fed_prot_veg = total_pop_could_be_fed_prot_veg / total_pop_sample_veg\n",
    "\n",
    "\n",
    "# total sample population could be fed by protein\n",
    "total_pop_could_be_fed_prot = round(df_total_protein[\"nb_people_could_be_fed_prot\"].sum())\n",
    "\n",
    "# proportion of peoples could be fed\n",
    "prop_pop_could_be_fed_prot = total_pop_could_be_fed_prot / total_pop_sample\n",
    "\n",
    "# total world population could be fed by protein\n",
    "world_total_pop_could_be_fed_kcal_veg = round(prop_pop_could_be_fed_kcal_veg * total_pop_size)\n",
    "world_total_pop_could_be_fed_prot_veg = round(prop_pop_could_be_fed_prot_veg * total_pop_size)"
   ]
  },
  {
   "cell_type": "code",
   "execution_count": 34,
   "metadata": {
    "tags": []
   },
   "outputs": [
    {
     "data": {
      "text/html": [
       "<div>\n",
       "<style scoped>\n",
       "    .dataframe tbody tr th:only-of-type {\n",
       "        vertical-align: middle;\n",
       "    }\n",
       "\n",
       "    .dataframe tbody tr th {\n",
       "        vertical-align: top;\n",
       "    }\n",
       "\n",
       "    .dataframe thead th {\n",
       "        text-align: right;\n",
       "    }\n",
       "</style>\n",
       "<table border=\"1\" class=\"dataframe\">\n",
       "  <thead>\n",
       "    <tr style=\"text-align: right;\">\n",
       "      <th></th>\n",
       "      <th>country</th>\n",
       "      <th>pop_size</th>\n",
       "      <th>food_supply_kcal_avl</th>\n",
       "      <th>prot_amount_g_avl</th>\n",
       "      <th>total_veg_food_kcal</th>\n",
       "      <th>total_veg_food_protein</th>\n",
       "      <th>nb_people_could_be_fed_kcal</th>\n",
       "      <th>nb_people_could_be_fed_prot</th>\n",
       "    </tr>\n",
       "  </thead>\n",
       "  <tbody>\n",
       "    <tr>\n",
       "      <th>0</th>\n",
       "      <td>Afghanistan</td>\n",
       "      <td>36,296,113.00</td>\n",
       "      <td>1,871.00</td>\n",
       "      <td>46.05</td>\n",
       "      <td>24,787,160,009,395.00</td>\n",
       "      <td>610,074,141,332.00</td>\n",
       "      <td>27,164,010.97</td>\n",
       "      <td>32,480,295.45</td>\n",
       "    </tr>\n",
       "    <tr>\n",
       "      <th>1</th>\n",
       "      <td>Afrique du Sud</td>\n",
       "      <td>57,009,756.00</td>\n",
       "      <td>2,533.00</td>\n",
       "      <td>48.94</td>\n",
       "      <td>52,708,084,861,020.00</td>\n",
       "      <td>1,018,370,972,404.00</td>\n",
       "      <td>57,762,284.78</td>\n",
       "      <td>54,217,984.04</td>\n",
       "    </tr>\n",
       "    <tr>\n",
       "      <th>2</th>\n",
       "      <td>Albanie</td>\n",
       "      <td>2,884,169.00</td>\n",
       "      <td>2,203.00</td>\n",
       "      <td>51.96</td>\n",
       "      <td>2,319,145,872,055.00</td>\n",
       "      <td>54,699,418,753.00</td>\n",
       "      <td>2,541,529.72</td>\n",
       "      <td>2,912,192.41</td>\n",
       "    </tr>\n",
       "    <tr>\n",
       "      <th>3</th>\n",
       "      <td>Algérie</td>\n",
       "      <td>41,389,189.00</td>\n",
       "      <td>2,915.00</td>\n",
       "      <td>66.94</td>\n",
       "      <td>44,037,062,366,275.00</td>\n",
       "      <td>1,011,266,193,756.00</td>\n",
       "      <td>48,259,794.37</td>\n",
       "      <td>53,839,726.23</td>\n",
       "    </tr>\n",
       "    <tr>\n",
       "      <th>4</th>\n",
       "      <td>Allemagne</td>\n",
       "      <td>82,658,409.00</td>\n",
       "      <td>2,461.00</td>\n",
       "      <td>39.90</td>\n",
       "      <td>74,249,155,760,385.00</td>\n",
       "      <td>1,203,795,739,472.00</td>\n",
       "      <td>81,368,937.82</td>\n",
       "      <td>64,089,982.88</td>\n",
       "    </tr>\n",
       "  </tbody>\n",
       "</table>\n",
       "</div>"
      ],
      "text/plain": [
       "          country      pop_size  food_supply_kcal_avl  prot_amount_g_avl  \\\n",
       "0     Afghanistan 36,296,113.00              1,871.00              46.05   \n",
       "1  Afrique du Sud 57,009,756.00              2,533.00              48.94   \n",
       "2         Albanie  2,884,169.00              2,203.00              51.96   \n",
       "3         Algérie 41,389,189.00              2,915.00              66.94   \n",
       "4       Allemagne 82,658,409.00              2,461.00              39.90   \n",
       "\n",
       "    total_veg_food_kcal  total_veg_food_protein  nb_people_could_be_fed_kcal  \\\n",
       "0 24,787,160,009,395.00      610,074,141,332.00                27,164,010.97   \n",
       "1 52,708,084,861,020.00    1,018,370,972,404.00                57,762,284.78   \n",
       "2  2,319,145,872,055.00       54,699,418,753.00                 2,541,529.72   \n",
       "3 44,037,062,366,275.00    1,011,266,193,756.00                48,259,794.37   \n",
       "4 74,249,155,760,385.00    1,203,795,739,472.00                81,368,937.82   \n",
       "\n",
       "   nb_people_could_be_fed_prot  \n",
       "0                32,480,295.45  \n",
       "1                54,217,984.04  \n",
       "2                 2,912,192.41  \n",
       "3                53,839,726.23  \n",
       "4                64,089,982.88  "
      ]
     },
     "metadata": {},
     "output_type": "display_data"
    },
    {
     "name": "stdout",
     "output_type": "stream",
     "text": [
      "\n",
      "Total nombre de personne pouvant être nourrie en kcal végatales : 7,146,919,091 (94.7%)\n",
      "Total nombre de personne pouvant être nourrie en protéines végatales : 7,202,326,735 (95.4%)\n",
      "\n"
     ]
    }
   ],
   "source": [
    "display(df_total_veg.head(5))\n",
    "\n",
    "print(f\"\"\"\n",
    "Total nombre de personne pouvant être nourrie en kcal végatales : {world_total_pop_could_be_fed_kcal_veg:,} ({prop_pop_could_be_fed_kcal_veg:.01%})\n",
    "Total nombre de personne pouvant être nourrie en protéines végatales : {world_total_pop_could_be_fed_prot_veg:,} ({prop_pop_could_be_fed_prot_veg:.01%})\n",
    "\"\"\")"
   ]
  },
  {
   "cell_type": "markdown",
   "metadata": {},
   "source": [
    "### Résultats\n",
    "* Pour être nourri et en bonne santé, il faut à la fois avoir suffisament de kcal et de protéines."
   ]
  },
  {
   "cell_type": "code",
   "execution_count": 35,
   "metadata": {
    "scrolled": true
   },
   "outputs": [],
   "source": [
    "# Proportion population could be fed\n",
    "prop_pop_could_be_fed_veg = min(prop_pop_could_be_fed_kcal_veg, prop_pop_could_be_fed_prot_veg)\n",
    "\n",
    "# World population could be fed\n",
    "world_pop_could_be_fed_veg = min(world_total_pop_could_be_fed_kcal_veg, world_total_pop_could_be_fed_prot_veg)"
   ]
  },
  {
   "cell_type": "code",
   "execution_count": 36,
   "metadata": {
    "tags": []
   },
   "outputs": [
    {
     "data": {
      "image/png": "[encoded data removed]",
      "text/plain": [
       "<Figure size 144x216 with 1 Axes>"
      ]
     },
     "metadata": {
      "needs_background": "light"
     },
     "output_type": "display_data"
    },
    {
     "name": "stdout",
     "output_type": "stream",
     "text": [
      "\n",
      "Proportion de personnes qui peuvent être nourries à partir de végétaux : 94.7%\n",
      "Nombre théorique de personne qui peut être nourries dans le monde à partir de végétaux : 7,146,919,091\n",
      "\n"
     ]
    }
   ],
   "source": [
    "# chart\n",
    "fig = plt.figure(figsize=[2,3])\n",
    "ax = fig.add_axes([0,0,1,1])\n",
    "labels = [\n",
    "    'by kcal',\n",
    "    'by proteins'\n",
    "]\n",
    "pop_values = [\n",
    "    world_total_pop_could_be_fed_kcal_veg,\n",
    "    world_total_pop_could_be_fed_prot_veg\n",
    "]\n",
    "ax.bar(labels,pop_values, color=['#00AAAA','#00C69C'])\n",
    "plt.title(\"Nombre théorique de personnes qui pourraient être nourries avec les végétaux\", pad=40, fontsize=20)\n",
    "plt.show()\n",
    "\n",
    "# result\n",
    "print(f\"\"\"\n",
    "Proportion de personnes qui peuvent être nourries à partir de végétaux : {prop_pop_could_be_fed_veg:.01%}\n",
    "Nombre théorique de personne qui peut être nourries dans le monde à partir de végétaux : {world_pop_could_be_fed_veg:,}\n",
    "\"\"\")"
   ]
  },
  {
   "cell_type": "markdown",
   "metadata": {},
   "source": [
    "### Conclusion\n",
    "La disponibilité alimentaire en végétaux à elle seule n'est pas suffisante pour couvrir les besoins de la population mondiale.\n",
    "Il serait intéressant de voir si une partie de nouriture destinées au animaux peut être utiliser pour augmenter la poduction végétale."
   ]
  },
  {
   "cell_type": "markdown",
   "metadata": {},
   "source": [
    "***\n",
    "\n",
    "# Disponibilité intérieure"
   ]
  },
  {
   "cell_type": "markdown",
   "metadata": {},
   "source": [
    "## Utilisation de la disponibilité intérieure"
   ]
  },
  {
   "cell_type": "markdown",
   "metadata": {},
   "source": [
    "Utilisation de la disponibilité intérieure, en particulier la part qui est attribuée à l’alimentation animale, celle qui est perdue et celle qui est concrètement utilisée pour l'alimentation humaine.\n",
    "* domestic_amount = food_amount  +  food_for_animals  +  other_use  +  seed  +  losses  +  processing"
   ]
  },
  {
   "cell_type": "markdown",
   "metadata": {},
   "source": [
    "### Détail de la disponibilité intérieur par zone"
   ]
  },
  {
   "cell_type": "code",
   "execution_count": 37,
   "metadata": {
    "tags": []
   },
   "outputs": [],
   "source": [
    "df_food_domestic_avl_by_country = df_food_avl_by_country[\n",
    "    [\n",
    "        'country',\n",
    "        'domestic_amount',\n",
    "        'food_amount',\n",
    "        'food_for_animals',\n",
    "        'other_use',\n",
    "        'seed',\n",
    "        'losses',\n",
    "        'processing'\n",
    "    ]\n",
    "].copy()"
   ]
  },
  {
   "cell_type": "code",
   "execution_count": 38,
   "metadata": {
    "tags": []
   },
   "outputs": [],
   "source": [
    "# proportion calculating\n",
    "df_prop_domestic_avl_by_country = df_food_domestic_avl_by_country.copy()\n",
    "\n",
    "df_prop_domestic_avl_by_country['food_amount_prop'] = prop(\n",
    "    df_prop_domestic_avl_by_country['food_amount'], df_prop_domestic_avl_by_country['domestic_amount'])\n",
    "\n",
    "df_prop_domestic_avl_by_country['food_amount_prop'] = prop(\n",
    "    df_prop_domestic_avl_by_country['food_amount'], df_prop_domestic_avl_by_country['domestic_amount'])\n",
    "\n",
    "df_prop_domestic_avl_by_country['food_for_animals_prop'] = prop(\n",
    "    df_prop_domestic_avl_by_country['food_for_animals'], df_prop_domestic_avl_by_country['domestic_amount'])\n",
    "\n",
    "df_prop_domestic_avl_by_country['other_use_prop'] = prop(\n",
    "    df_prop_domestic_avl_by_country['other_use'], df_prop_domestic_avl_by_country['domestic_amount'])\n",
    "\n",
    "df_prop_domestic_avl_by_country['seed_prop'] = prop(\n",
    "    df_prop_domestic_avl_by_country['seed'], df_prop_domestic_avl_by_country['domestic_amount'])\n",
    "\n",
    "df_prop_domestic_avl_by_country['losses_prop'] = prop(\n",
    "    df_prop_domestic_avl_by_country['losses'], df_prop_domestic_avl_by_country['domestic_amount'])\n",
    "\n",
    "df_prop_domestic_avl_by_country['processing_prop'] = prop(\n",
    "    df_prop_domestic_avl_by_country['processing'], df_prop_domestic_avl_by_country['domestic_amount'])\n",
    "\n",
    "# clean dataframe\n",
    "cols_to_delete =     [\n",
    "        'domestic_amount',\n",
    "        'food_amount',\n",
    "        'food_for_animals',\n",
    "        'other_use',\n",
    "        'seed',\n",
    "        'losses',\n",
    "        'processing'\n",
    "    ]\n",
    "\n",
    "for i in cols_to_delete:\n",
    "    del df_prop_domestic_avl_by_country[i]"
   ]
  },
  {
   "cell_type": "code",
   "execution_count": 39,
   "metadata": {},
   "outputs": [
    {
     "data": {
      "text/html": [
       "<div>\n",
       "<style scoped>\n",
       "    .dataframe tbody tr th:only-of-type {\n",
       "        vertical-align: middle;\n",
       "    }\n",
       "\n",
       "    .dataframe tbody tr th {\n",
       "        vertical-align: top;\n",
       "    }\n",
       "\n",
       "    .dataframe thead th {\n",
       "        text-align: right;\n",
       "    }\n",
       "</style>\n",
       "<table border=\"1\" class=\"dataframe\">\n",
       "  <thead>\n",
       "    <tr style=\"text-align: right;\">\n",
       "      <th></th>\n",
       "      <th>country</th>\n",
       "      <th>food_amount_prop</th>\n",
       "      <th>food_for_animals_prop</th>\n",
       "      <th>other_use_prop</th>\n",
       "      <th>seed_prop</th>\n",
       "      <th>losses_prop</th>\n",
       "      <th>processing_prop</th>\n",
       "    </tr>\n",
       "  </thead>\n",
       "  <tbody>\n",
       "    <tr>\n",
       "      <th>0</th>\n",
       "      <td>Afghanistan</td>\n",
       "      <td>79.43</td>\n",
       "      <td>5.68</td>\n",
       "      <td>3.07</td>\n",
       "      <td>2.92</td>\n",
       "      <td>8.40</td>\n",
       "      <td>0.47</td>\n",
       "    </tr>\n",
       "    <tr>\n",
       "      <th>1</th>\n",
       "      <td>Afrique du Sud</td>\n",
       "      <td>48.67</td>\n",
       "      <td>8.67</td>\n",
       "      <td>1.43</td>\n",
       "      <td>0.41</td>\n",
       "      <td>3.58</td>\n",
       "      <td>37.25</td>\n",
       "    </tr>\n",
       "    <tr>\n",
       "      <th>2</th>\n",
       "      <td>Albanie</td>\n",
       "      <td>73.06</td>\n",
       "      <td>13.87</td>\n",
       "      <td>3.66</td>\n",
       "      <td>1.16</td>\n",
       "      <td>5.80</td>\n",
       "      <td>2.37</td>\n",
       "    </tr>\n",
       "    <tr>\n",
       "      <th>3</th>\n",
       "      <td>Algérie</td>\n",
       "      <td>74.43</td>\n",
       "      <td>10.21</td>\n",
       "      <td>4.00</td>\n",
       "      <td>1.05</td>\n",
       "      <td>8.80</td>\n",
       "      <td>1.49</td>\n",
       "    </tr>\n",
       "    <tr>\n",
       "      <th>4</th>\n",
       "      <td>Allemagne</td>\n",
       "      <td>48.83</td>\n",
       "      <td>18.62</td>\n",
       "      <td>4.75</td>\n",
       "      <td>0.96</td>\n",
       "      <td>2.33</td>\n",
       "      <td>24.55</td>\n",
       "    </tr>\n",
       "  </tbody>\n",
       "</table>\n",
       "</div>"
      ],
      "text/plain": [
       "          country  food_amount_prop  food_for_animals_prop  other_use_prop  \\\n",
       "0     Afghanistan             79.43                   5.68            3.07   \n",
       "1  Afrique du Sud             48.67                   8.67            1.43   \n",
       "2         Albanie             73.06                  13.87            3.66   \n",
       "3         Algérie             74.43                  10.21            4.00   \n",
       "4       Allemagne             48.83                  18.62            4.75   \n",
       "\n",
       "   seed_prop  losses_prop  processing_prop  \n",
       "0       2.92         8.40             0.47  \n",
       "1       0.41         3.58            37.25  \n",
       "2       1.16         5.80             2.37  \n",
       "3       1.05         8.80             1.49  \n",
       "4       0.96         2.33            24.55  "
      ]
     },
     "metadata": {},
     "output_type": "display_data"
    }
   ],
   "source": [
    "display(df_prop_domestic_avl_by_country.head(5))"
   ]
  },
  {
   "cell_type": "markdown",
   "metadata": {},
   "source": [
    "### Répartition de la disponibilité intérieur mondiale"
   ]
  },
  {
   "cell_type": "code",
   "execution_count": 40,
   "metadata": {
    "scrolled": true
   },
   "outputs": [],
   "source": [
    "df_food_domestic_avl_world = df_food_domestic_avl_by_country.sum()"
   ]
  },
  {
   "cell_type": "code",
   "execution_count": 41,
   "metadata": {
    "tags": []
   },
   "outputs": [],
   "source": [
    "# world domestic avl proportion\n",
    "domestic_world_amount = df_food_domestic_avl_world.domestic_amount\n",
    "df_food_domestic_avl_world = df_food_domestic_avl_world.drop(['country', 'domestic_amount'])\n",
    "\n",
    "# proportions\n",
    "df_food_domestic_avl_world['food_amount'] = prop(df_food_domestic_avl_world['food_amount'], domestic_world_amount)\n",
    "df_food_domestic_avl_world['food_for_animals'] = prop(df_food_domestic_avl_world['food_for_animals'], domestic_world_amount)\n",
    "df_food_domestic_avl_world['other_use'] = prop(df_food_domestic_avl_world['other_use'], domestic_world_amount)\n",
    "df_food_domestic_avl_world['seed'] = prop(df_food_domestic_avl_world['seed'], domestic_world_amount)\n",
    "df_food_domestic_avl_world['losses'] = prop(df_food_domestic_avl_world['losses'], domestic_world_amount)\n",
    "df_food_domestic_avl_world['processing'] = prop(df_food_domestic_avl_world['processing'], domestic_world_amount)\n",
    "df_food_domestic_avl_world = df_food_domestic_avl_world.sort_values(ascending=False)"
   ]
  },
  {
   "cell_type": "code",
   "execution_count": 42,
   "metadata": {},
   "outputs": [
    {
     "data": {
      "text/plain": [
       "food_amount        49.37\n",
       "processing         22.45\n",
       "food_for_animals   13.23\n",
       "other_use           8.82\n",
       "losses              4.65\n",
       "seed                1.58\n",
       "dtype: object"
      ]
     },
     "metadata": {},
     "output_type": "display_data"
    }
   ],
   "source": [
    "display(df_food_domestic_avl_world)"
   ]
  },
  {
   "cell_type": "code",
   "execution_count": 43,
   "metadata": {
    "tags": []
   },
   "outputs": [
    {
     "data": {
      "image/png": "[encoded data removed]",
      "text/plain": [
       "<Figure size 360x360 with 1 Axes>"
      ]
     },
     "metadata": {},
     "output_type": "display_data"
    }
   ],
   "source": [
    "# chart\n",
    "pie, ax = plt.subplots(figsize=[5,5])\n",
    "labels = df_food_domestic_avl_world.keys()\n",
    "colors = ['#99C3FF','#87C0DB','#00AAAA','#00C69C','#00E28E','#00FF80']\n",
    "plt.pie(x=df_food_domestic_avl_world, autopct=\"%.1f%%\", explode=[0.02]*6, labels=labels, pctdistance=0.5, radius=1.2, textprops=dict(size=12), colors=colors)\n",
    "plt.title(\"Répartition de la disponibilité intérieur mondiale\", fontsize=18, loc=\"right\", pad=40)\n",
    "plt.show()"
   ]
  },
  {
   "cell_type": "markdown",
   "metadata": {},
   "source": [
    "### Conclusion\n",
    "Presque la moitié de la nourriture disponible est destinée à la consommation humaine.  \n",
    "Les leviers pour améliorer la part de nourriture pour les humains, serait de réduire les pertes avec de meilleurs processus de production et l'apport à l'élevage. "
   ]
  },
  {
   "cell_type": "markdown",
   "metadata": {
    "tags": []
   },
   "source": [
    "***\n",
    "\n",
    "## Disponibilité par habitant"
   ]
  },
  {
   "cell_type": "markdown",
   "metadata": {},
   "source": [
    "### Pays ayant le plus de disponibilité/habitant"
   ]
  },
  {
   "cell_type": "markdown",
   "metadata": {},
   "source": [
    "#### Disponibilité en kcal"
   ]
  },
  {
   "cell_type": "code",
   "execution_count": 44,
   "metadata": {
    "tags": []
   },
   "outputs": [
    {
     "data": {
      "text/html": [
       "<div>\n",
       "<style scoped>\n",
       "    .dataframe tbody tr th:only-of-type {\n",
       "        vertical-align: middle;\n",
       "    }\n",
       "\n",
       "    .dataframe tbody tr th {\n",
       "        vertical-align: top;\n",
       "    }\n",
       "\n",
       "    .dataframe thead th {\n",
       "        text-align: right;\n",
       "    }\n",
       "</style>\n",
       "<table border=\"1\" class=\"dataframe\">\n",
       "  <thead>\n",
       "    <tr style=\"text-align: right;\">\n",
       "      <th></th>\n",
       "      <th>country</th>\n",
       "      <th>food_supply_kcal_avl</th>\n",
       "    </tr>\n",
       "  </thead>\n",
       "  <tbody>\n",
       "    <tr>\n",
       "      <th>11</th>\n",
       "      <td>Autriche</td>\n",
       "      <td>3,770.00</td>\n",
       "    </tr>\n",
       "    <tr>\n",
       "      <th>16</th>\n",
       "      <td>Belgique</td>\n",
       "      <td>3,737.00</td>\n",
       "    </tr>\n",
       "    <tr>\n",
       "      <th>157</th>\n",
       "      <td>Turquie</td>\n",
       "      <td>3,708.00</td>\n",
       "    </tr>\n",
       "    <tr>\n",
       "      <th>169</th>\n",
       "      <td>États-Unis d'Amérique</td>\n",
       "      <td>3,682.00</td>\n",
       "    </tr>\n",
       "    <tr>\n",
       "      <th>74</th>\n",
       "      <td>Israël</td>\n",
       "      <td>3,610.00</td>\n",
       "    </tr>\n",
       "    <tr>\n",
       "      <th>72</th>\n",
       "      <td>Irlande</td>\n",
       "      <td>3,602.00</td>\n",
       "    </tr>\n",
       "    <tr>\n",
       "      <th>75</th>\n",
       "      <td>Italie</td>\n",
       "      <td>3,578.00</td>\n",
       "    </tr>\n",
       "    <tr>\n",
       "      <th>89</th>\n",
       "      <td>Luxembourg</td>\n",
       "      <td>3,540.00</td>\n",
       "    </tr>\n",
       "    <tr>\n",
       "      <th>166</th>\n",
       "      <td>Égypte</td>\n",
       "      <td>3,518.00</td>\n",
       "    </tr>\n",
       "    <tr>\n",
       "      <th>4</th>\n",
       "      <td>Allemagne</td>\n",
       "      <td>3,503.00</td>\n",
       "    </tr>\n",
       "  </tbody>\n",
       "</table>\n",
       "</div>"
      ],
      "text/plain": [
       "                   country  food_supply_kcal_avl\n",
       "11                Autriche              3,770.00\n",
       "16                Belgique              3,737.00\n",
       "157                Turquie              3,708.00\n",
       "169  États-Unis d'Amérique              3,682.00\n",
       "74                  Israël              3,610.00\n",
       "72                 Irlande              3,602.00\n",
       "75                  Italie              3,578.00\n",
       "89              Luxembourg              3,540.00\n",
       "166                 Égypte              3,518.00\n",
       "4                Allemagne              3,503.00"
      ]
     },
     "metadata": {},
     "output_type": "display_data"
    }
   ],
   "source": [
    "df_food_avl_by_country_kcal_desc = df_food_avl_by_country[['country', 'food_supply_kcal_avl']]\n",
    "df_food_avl_by_country_kcal_desc = df_food_avl_by_country_kcal_desc.sort_values([\"food_supply_kcal_avl\"], ascending=False).iloc[:10]\n",
    "display(df_food_avl_by_country_kcal_desc)"
   ]
  },
  {
   "cell_type": "markdown",
   "metadata": {},
   "source": [
    "#### Disponibilité en protéines"
   ]
  },
  {
   "cell_type": "code",
   "execution_count": 45,
   "metadata": {
    "tags": []
   },
   "outputs": [
    {
     "data": {
      "text/html": [
       "<div>\n",
       "<style scoped>\n",
       "    .dataframe tbody tr th:only-of-type {\n",
       "        vertical-align: middle;\n",
       "    }\n",
       "\n",
       "    .dataframe tbody tr th {\n",
       "        vertical-align: top;\n",
       "    }\n",
       "\n",
       "    .dataframe thead th {\n",
       "        text-align: right;\n",
       "    }\n",
       "</style>\n",
       "<table border=\"1\" class=\"dataframe\">\n",
       "  <thead>\n",
       "    <tr style=\"text-align: right;\">\n",
       "      <th></th>\n",
       "      <th>country</th>\n",
       "      <th>prot_amount_g_avl</th>\n",
       "    </tr>\n",
       "  </thead>\n",
       "  <tbody>\n",
       "    <tr>\n",
       "      <th>73</th>\n",
       "      <td>Islande</td>\n",
       "      <td>133.06</td>\n",
       "    </tr>\n",
       "    <tr>\n",
       "      <th>33</th>\n",
       "      <td>Chine - RAS de Hong-Kong</td>\n",
       "      <td>129.07</td>\n",
       "    </tr>\n",
       "    <tr>\n",
       "      <th>74</th>\n",
       "      <td>Israël</td>\n",
       "      <td>128.00</td>\n",
       "    </tr>\n",
       "    <tr>\n",
       "      <th>88</th>\n",
       "      <td>Lituanie</td>\n",
       "      <td>124.36</td>\n",
       "    </tr>\n",
       "    <tr>\n",
       "      <th>94</th>\n",
       "      <td>Maldives</td>\n",
       "      <td>122.32</td>\n",
       "    </tr>\n",
       "    <tr>\n",
       "      <th>52</th>\n",
       "      <td>Finlande</td>\n",
       "      <td>117.56</td>\n",
       "    </tr>\n",
       "    <tr>\n",
       "      <th>89</th>\n",
       "      <td>Luxembourg</td>\n",
       "      <td>113.64</td>\n",
       "    </tr>\n",
       "    <tr>\n",
       "      <th>102</th>\n",
       "      <td>Monténégro</td>\n",
       "      <td>111.90</td>\n",
       "    </tr>\n",
       "    <tr>\n",
       "      <th>119</th>\n",
       "      <td>Pays-Bas</td>\n",
       "      <td>111.46</td>\n",
       "    </tr>\n",
       "    <tr>\n",
       "      <th>2</th>\n",
       "      <td>Albanie</td>\n",
       "      <td>111.37</td>\n",
       "    </tr>\n",
       "  </tbody>\n",
       "</table>\n",
       "</div>"
      ],
      "text/plain": [
       "                      country  prot_amount_g_avl\n",
       "73                    Islande             133.06\n",
       "33   Chine - RAS de Hong-Kong             129.07\n",
       "74                     Israël             128.00\n",
       "88                   Lituanie             124.36\n",
       "94                   Maldives             122.32\n",
       "52                   Finlande             117.56\n",
       "89                 Luxembourg             113.64\n",
       "102                Monténégro             111.90\n",
       "119                  Pays-Bas             111.46\n",
       "2                     Albanie             111.37"
      ]
     },
     "metadata": {},
     "output_type": "display_data"
    }
   ],
   "source": [
    "df_food_avl_by_country_prot_desc = df_food_avl_by_country[['country', 'prot_amount_g_avl']]\n",
    "df_food_avl_by_country_prot_desc = df_food_avl_by_country_prot_desc.sort_values([\"prot_amount_g_avl\"], ascending=False).iloc[:10]\n",
    "display(df_food_avl_by_country_prot_desc)"
   ]
  },
  {
   "cell_type": "markdown",
   "metadata": {},
   "source": [
    "### Pays ayant le moins de disponibilité/habitant"
   ]
  },
  {
   "cell_type": "markdown",
   "metadata": {},
   "source": [
    "#### Disponibilité en kcal"
   ]
  },
  {
   "cell_type": "code",
   "execution_count": 46,
   "metadata": {
    "tags": []
   },
   "outputs": [
    {
     "data": {
      "text/html": [
       "<div>\n",
       "<style scoped>\n",
       "    .dataframe tbody tr th:only-of-type {\n",
       "        vertical-align: middle;\n",
       "    }\n",
       "\n",
       "    .dataframe tbody tr th {\n",
       "        vertical-align: top;\n",
       "    }\n",
       "\n",
       "    .dataframe thead th {\n",
       "        text-align: right;\n",
       "    }\n",
       "</style>\n",
       "<table border=\"1\" class=\"dataframe\">\n",
       "  <thead>\n",
       "    <tr style=\"text-align: right;\">\n",
       "      <th></th>\n",
       "      <th>country</th>\n",
       "      <th>food_supply_kcal_avl</th>\n",
       "    </tr>\n",
       "  </thead>\n",
       "  <tbody>\n",
       "    <tr>\n",
       "      <th>127</th>\n",
       "      <td>République centrafricaine</td>\n",
       "      <td>1,879.00</td>\n",
       "    </tr>\n",
       "    <tr>\n",
       "      <th>164</th>\n",
       "      <td>Zambie</td>\n",
       "      <td>1,924.00</td>\n",
       "    </tr>\n",
       "    <tr>\n",
       "      <th>91</th>\n",
       "      <td>Madagascar</td>\n",
       "      <td>2,056.00</td>\n",
       "    </tr>\n",
       "    <tr>\n",
       "      <th>0</th>\n",
       "      <td>Afghanistan</td>\n",
       "      <td>2,087.00</td>\n",
       "    </tr>\n",
       "    <tr>\n",
       "      <th>65</th>\n",
       "      <td>Haïti</td>\n",
       "      <td>2,089.00</td>\n",
       "    </tr>\n",
       "    <tr>\n",
       "      <th>132</th>\n",
       "      <td>République populaire démocratique de Corée</td>\n",
       "      <td>2,093.00</td>\n",
       "    </tr>\n",
       "    <tr>\n",
       "      <th>150</th>\n",
       "      <td>Tchad</td>\n",
       "      <td>2,109.00</td>\n",
       "    </tr>\n",
       "    <tr>\n",
       "      <th>165</th>\n",
       "      <td>Zimbabwe</td>\n",
       "      <td>2,113.00</td>\n",
       "    </tr>\n",
       "    <tr>\n",
       "      <th>114</th>\n",
       "      <td>Ouganda</td>\n",
       "      <td>2,126.00</td>\n",
       "    </tr>\n",
       "    <tr>\n",
       "      <th>152</th>\n",
       "      <td>Timor-Leste</td>\n",
       "      <td>2,129.00</td>\n",
       "    </tr>\n",
       "  </tbody>\n",
       "</table>\n",
       "</div>"
      ],
      "text/plain": [
       "                                        country  food_supply_kcal_avl\n",
       "127                   République centrafricaine              1,879.00\n",
       "164                                      Zambie              1,924.00\n",
       "91                                   Madagascar              2,056.00\n",
       "0                                   Afghanistan              2,087.00\n",
       "65                                        Haïti              2,089.00\n",
       "132  République populaire démocratique de Corée              2,093.00\n",
       "150                                       Tchad              2,109.00\n",
       "165                                    Zimbabwe              2,113.00\n",
       "114                                     Ouganda              2,126.00\n",
       "152                                 Timor-Leste              2,129.00"
      ]
     },
     "metadata": {},
     "output_type": "display_data"
    }
   ],
   "source": [
    "df_food_avl_by_country_asc = df_food_avl_by_country[['country', 'food_supply_kcal_avl']]\n",
    "df_food_avl_by_country_asc = df_food_avl_by_country_asc.sort_values([\"food_supply_kcal_avl\"]).iloc[:10]\n",
    "display(df_food_avl_by_country_asc)"
   ]
  },
  {
   "cell_type": "markdown",
   "metadata": {},
   "source": [
    "#### Disponibilité en protéines"
   ]
  },
  {
   "cell_type": "code",
   "execution_count": 47,
   "metadata": {
    "tags": []
   },
   "outputs": [
    {
     "data": {
      "text/html": [
       "<div>\n",
       "<style scoped>\n",
       "    .dataframe tbody tr th:only-of-type {\n",
       "        vertical-align: middle;\n",
       "    }\n",
       "\n",
       "    .dataframe tbody tr th {\n",
       "        vertical-align: top;\n",
       "    }\n",
       "\n",
       "    .dataframe thead th {\n",
       "        text-align: right;\n",
       "    }\n",
       "</style>\n",
       "<table border=\"1\" class=\"dataframe\">\n",
       "  <thead>\n",
       "    <tr style=\"text-align: right;\">\n",
       "      <th></th>\n",
       "      <th>country</th>\n",
       "      <th>prot_amount_g_avl</th>\n",
       "    </tr>\n",
       "  </thead>\n",
       "  <tbody>\n",
       "    <tr>\n",
       "      <th>87</th>\n",
       "      <td>Libéria</td>\n",
       "      <td>37.66</td>\n",
       "    </tr>\n",
       "    <tr>\n",
       "      <th>62</th>\n",
       "      <td>Guinée-Bissau</td>\n",
       "      <td>44.05</td>\n",
       "    </tr>\n",
       "    <tr>\n",
       "      <th>103</th>\n",
       "      <td>Mozambique</td>\n",
       "      <td>45.68</td>\n",
       "    </tr>\n",
       "    <tr>\n",
       "      <th>127</th>\n",
       "      <td>République centrafricaine</td>\n",
       "      <td>46.04</td>\n",
       "    </tr>\n",
       "    <tr>\n",
       "      <th>91</th>\n",
       "      <td>Madagascar</td>\n",
       "      <td>46.69</td>\n",
       "    </tr>\n",
       "    <tr>\n",
       "      <th>65</th>\n",
       "      <td>Haïti</td>\n",
       "      <td>47.70</td>\n",
       "    </tr>\n",
       "    <tr>\n",
       "      <th>165</th>\n",
       "      <td>Zimbabwe</td>\n",
       "      <td>48.32</td>\n",
       "    </tr>\n",
       "    <tr>\n",
       "      <th>39</th>\n",
       "      <td>Congo</td>\n",
       "      <td>51.41</td>\n",
       "    </tr>\n",
       "    <tr>\n",
       "      <th>114</th>\n",
       "      <td>Ouganda</td>\n",
       "      <td>52.64</td>\n",
       "    </tr>\n",
       "    <tr>\n",
       "      <th>138</th>\n",
       "      <td>Sao Tomé-et-Principe</td>\n",
       "      <td>53.10</td>\n",
       "    </tr>\n",
       "  </tbody>\n",
       "</table>\n",
       "</div>"
      ],
      "text/plain": [
       "                       country  prot_amount_g_avl\n",
       "87                     Libéria              37.66\n",
       "62               Guinée-Bissau              44.05\n",
       "103                 Mozambique              45.68\n",
       "127  République centrafricaine              46.04\n",
       "91                  Madagascar              46.69\n",
       "65                       Haïti              47.70\n",
       "165                   Zimbabwe              48.32\n",
       "39                       Congo              51.41\n",
       "114                    Ouganda              52.64\n",
       "138       Sao Tomé-et-Principe              53.10"
      ]
     },
     "metadata": {},
     "output_type": "display_data"
    }
   ],
   "source": [
    "df_food_avl_by_country_asc = df_food_avl_by_country[['country', 'prot_amount_g_avl']]\n",
    "df_food_avl_by_country_asc = df_food_avl_by_country_asc.sort_values([\"prot_amount_g_avl\"]).iloc[:10]\n",
    "display(df_food_avl_by_country_asc)"
   ]
  },
  {
   "cell_type": "markdown",
   "metadata": {},
   "source": [
    "### Conclusion\n",
    "On note une disparité géographique des pays dans la disponibilté alimentaire. Ceux-qui ont le plus de nourriture sont en Europe alors que ceux qui ont le moins de nourriture disponible sont en Afrique."
   ]
  },
  {
   "cell_type": "markdown",
   "metadata": {},
   "source": [
    "***\n",
    "\n",
    "## Répartions de la disponibilité en céréales"
   ]
  },
  {
   "cell_type": "markdown",
   "metadata": {},
   "source": [
    "### Disponibilité en céréales"
   ]
  },
  {
   "cell_type": "code",
   "execution_count": 48,
   "metadata": {},
   "outputs": [
    {
     "data": {
      "text/html": [
       "<div>\n",
       "<style scoped>\n",
       "    .dataframe tbody tr th:only-of-type {\n",
       "        vertical-align: middle;\n",
       "    }\n",
       "\n",
       "    .dataframe tbody tr th {\n",
       "        vertical-align: top;\n",
       "    }\n",
       "\n",
       "    .dataframe thead th {\n",
       "        text-align: right;\n",
       "    }\n",
       "</style>\n",
       "<table border=\"1\" class=\"dataframe\">\n",
       "  <thead>\n",
       "    <tr style=\"text-align: right;\">\n",
       "      <th></th>\n",
       "      <th>country</th>\n",
       "      <th>products</th>\n",
       "      <th>food_origin</th>\n",
       "      <th>production</th>\n",
       "      <th>import_amount</th>\n",
       "      <th>export_amount</th>\n",
       "      <th>stock_variation</th>\n",
       "      <th>domestic_amount</th>\n",
       "      <th>food_amount_kg_avl</th>\n",
       "      <th>food_supply_kcal_avl</th>\n",
       "      <th>prot_amount_g_avl</th>\n",
       "      <th>fat_supply_g_avl</th>\n",
       "      <th>food_amount</th>\n",
       "      <th>food_for_animals</th>\n",
       "      <th>other_use</th>\n",
       "      <th>losses</th>\n",
       "      <th>seed</th>\n",
       "      <th>processing</th>\n",
       "      <th>is_cereals</th>\n",
       "    </tr>\n",
       "  </thead>\n",
       "  <tbody>\n",
       "    <tr>\n",
       "      <th>7</th>\n",
       "      <td>Afghanistan</td>\n",
       "      <td>Blé</td>\n",
       "      <td>vegetale</td>\n",
       "      <td>5,169.00</td>\n",
       "      <td>1,173.00</td>\n",
       "      <td>0.00</td>\n",
       "      <td>-350.00</td>\n",
       "      <td>5,992.00</td>\n",
       "      <td>160.23</td>\n",
       "      <td>1,369.00</td>\n",
       "      <td>36.91</td>\n",
       "      <td>4.69</td>\n",
       "      <td>4,895.00</td>\n",
       "      <td>0.00</td>\n",
       "      <td>0.00</td>\n",
       "      <td>775.00</td>\n",
       "      <td>322.00</td>\n",
       "      <td>0.00</td>\n",
       "      <td>True</td>\n",
       "    </tr>\n",
       "  </tbody>\n",
       "</table>\n",
       "</div>"
      ],
      "text/plain": [
       "       country products food_origin  production  import_amount  export_amount  \\\n",
       "7  Afghanistan      Blé    vegetale    5,169.00       1,173.00           0.00   \n",
       "\n",
       "   stock_variation  domestic_amount  food_amount_kg_avl  food_supply_kcal_avl  \\\n",
       "7          -350.00         5,992.00              160.23              1,369.00   \n",
       "\n",
       "   prot_amount_g_avl  fat_supply_g_avl  food_amount  food_for_animals  \\\n",
       "7              36.91              4.69     4,895.00              0.00   \n",
       "\n",
       "   other_use  losses   seed  processing  is_cereals  \n",
       "7       0.00  775.00 322.00        0.00        True  "
      ]
     },
     "metadata": {},
     "output_type": "display_data"
    }
   ],
   "source": [
    "# select vegetables products\n",
    "#('Maïs', 'Blé', 'Céréales, Autres', 'Millet', 'Orge', 'Riz (Eq Blanchi)', 'Avoine', 'Seigle', 'Sorgho')\n",
    "df_cereals_avl = df_foods_avl[df_foods_avl['is_cereals'] == True]\n",
    "\n",
    "display(df_cereals_avl.head(1))"
   ]
  },
  {
   "cell_type": "code",
   "execution_count": 49,
   "metadata": {
    "tags": []
   },
   "outputs": [
    {
     "data": {
      "text/plain": [
       "country             AfghanistanAfghanistanAfghanistanAfghanistanAf...\n",
       "products            BléCéréales, AutresMaïsMilletOrgeRiz (Eq Blanc...\n",
       "food_amount                                          1,029,010,000.00\n",
       "food_for_animals                                       873,535,000.00\n",
       "other_use                                              234,787,000.00\n",
       "seed                                                    68,538,000.00\n",
       "losses                                                 107,120,000.00\n",
       "processing                                              94,589,000.00\n",
       "dtype: object"
      ]
     },
     "metadata": {},
     "output_type": "display_data"
    }
   ],
   "source": [
    "# format dataframe\n",
    "df_cereals_avl = df_cereals_avl[[\n",
    "    'country', 'products', 'food_amount', 'food_for_animals', 'other_use', 'seed', 'losses', 'processing'\n",
    "]]\n",
    "df_cereals_avl['food_amount'] = df_cereals_avl['food_amount'] * 1000\n",
    "df_cereals_avl['food_for_animals'] = df_cereals_avl['food_for_animals'] * 1000\n",
    "df_cereals_avl['other_use'] = df_cereals_avl['other_use'] * 1000\n",
    "df_cereals_avl['seed'] = df_cereals_avl['seed'] * 1000\n",
    "df_cereals_avl['losses'] = df_cereals_avl['losses'] * 1000\n",
    "df_cereals_avl['processing'] = df_cereals_avl['processing'] * 1000\n",
    "df_cereals_avl = df_cereals_avl.sum()\n",
    "\n",
    "# total cereals avl\n",
    "total_cereals = df_cereals_avl['food_for_animals'] + df_cereals_avl['food_amount'] + df_cereals_avl['other_use'] + df_cereals_avl['seed'] + df_cereals_avl['losses'] + df_cereals_avl['processing']\n",
    "\n",
    "display(df_cereals_avl)"
   ]
  },
  {
   "cell_type": "code",
   "execution_count": 50,
   "metadata": {
    "scrolled": true
   },
   "outputs": [],
   "source": [
    "# proportion\n",
    "prop_cereals_for_humains = df_cereals_avl['food_amount'] / total_cereals\n",
    "prop_cereals_for_animals = df_cereals_avl['food_for_animals'] / total_cereals\n",
    "prop_cereals_for_other_use = df_cereals_avl['other_use'] / total_cereals\n",
    "prop_cereals_for_seed = df_cereals_avl['seed'] / total_cereals\n",
    "prop_cereals_for_losses = df_cereals_avl['losses'] / total_cereals\n",
    "prop_cereals_for_processing = df_cereals_avl['processing'] / total_cereals"
   ]
  },
  {
   "cell_type": "code",
   "execution_count": 51,
   "metadata": {
    "tags": []
   },
   "outputs": [
    {
     "data": {
      "image/png": "[encoded data removed]",
      "text/plain": [
       "<Figure size 432x288 with 1 Axes>"
      ]
     },
     "metadata": {},
     "output_type": "display_data"
    },
    {
     "name": "stdout",
     "output_type": "stream",
     "text": [
      "\n",
      "Quantité de céréales (tonnes): \n",
      "\n",
      "- Pour les humains : 1,029,010,000.0\n",
      "- Pour les animaux : 873,535,000.0\n",
      "- Pour les autres utilisations : 234,787,000.0\n",
      "\n"
     ]
    }
   ],
   "source": [
    "# chart\n",
    "pie, ax = plt.subplots(figsize=[6,4])\n",
    "labels = ['for_humains', 'for_animals', 'other_use', 'seed', 'losses', 'processing']\n",
    "colors = ['#99C3FF','#87C0DB','#00AAAA','#99C3FF','#87C0DB','#00AAAA']\n",
    "cereals_prop_values = [\n",
    "    prop_cereals_for_humains,\n",
    "    prop_cereals_for_animals,\n",
    "    prop_cereals_for_other_use,\n",
    "    prop_cereals_for_seed,\n",
    "    prop_cereals_for_losses,\n",
    "    prop_cereals_for_processing\n",
    "]\n",
    "plt.pie(x=cereals_prop_values, autopct=\"%.1f%%\", explode=[0.08]*6, labels=labels, pctdistance=0.7, radius=1.2, textprops=dict(size=12), colors=colors)\n",
    "plt.title(\"Répartition de la disponibilité en céréales\", fontsize=18, pad=40)\n",
    "plt.show()\n",
    "\n",
    "print(f\"\"\"\n",
    "Quantité de céréales (tonnes): \n",
    "\n",
    "- Pour les humains : {df_cereals_avl['food_amount']:,}\n",
    "- Pour les animaux : {df_cereals_avl['food_for_animals']:,}\n",
    "- Pour les autres utilisations : {df_cereals_avl['other_use']:,}\n",
    "\"\"\")"
   ]
  },
  {
   "cell_type": "markdown",
   "metadata": {},
   "source": [
    "### Surproduction de protéines"
   ]
  },
  {
   "cell_type": "code",
   "execution_count": 52,
   "metadata": {
    "tags": []
   },
   "outputs": [],
   "source": [
    "# difference population could be fed between kcal and protein\n",
    "diff_pop_kcal_betw_prot = total_pop_could_be_fed_prot - total_pop_could_be_fed_kcal\n",
    "prop_diff_kcal_betw_prot = diff_pop_kcal_betw_prot / total_pop_could_be_fed_prot\n",
    "\n",
    "# cereals amount can be redistribute\n",
    "cereals_can_be_rescu = round(df_cereals_avl['food_for_animals'] * prop_diff_kcal_betw_prot)"
   ]
  },
  {
   "cell_type": "code",
   "execution_count": 53,
   "metadata": {},
   "outputs": [
    {
     "name": "stdout",
     "output_type": "stream",
     "text": [
      "\n",
      "Quantité de céréales qui peuvent être redistribuée : 232,819,137 (tonnes).\n",
      "\n"
     ]
    }
   ],
   "source": [
    "print(f\"\"\"\n",
    "Quantité de céréales qui peuvent être redistribuée : {cereals_can_be_rescu:,} (tonnes).\n",
    "\"\"\")"
   ]
  },
  {
   "cell_type": "markdown",
   "metadata": {},
   "source": [
    "### Conclusion\n",
    "La part de céréales destinée aux animaux est importante par rapport à celle destinée aux humains.  \n",
    "Sachant que la production de protéines est supérieur au besoin alimentaire de la population mondiale, il y a une quantité importante de céréales destinées aux animaux qui peut être redistribuée aux humains."
   ]
  },
  {
   "cell_type": "markdown",
   "metadata": {},
   "source": [
    "***\n",
    "\n",
    "## Produits les plus exportés par les pays ayant la proportion de personnes sous-alimentées est la plus forte"
   ]
  },
  {
   "cell_type": "code",
   "execution_count": 54,
   "metadata": {},
   "outputs": [],
   "source": [
    "# select country under nourishement\n",
    "df_zone_is_under_nourish = df_under_nourish_pop.loc[df_under_nourish_pop['is_under_nourish']].copy()\n",
    "\n",
    "# select food avl of country under nourishement\n",
    "df_food_avl_by_country_under_nourish = df_foods_avl.merge(df_zone_is_under_nourish, on='country')\n",
    "df_food_avl_of_country_under_nourish = df_food_avl_by_country_under_nourish[['domestic_amount','products', 'production', 'import_amount', 'export_amount', 'food_amount']]\n",
    "\n",
    "# total food avl by products\n",
    "df_top_export = df_food_avl_of_country_under_nourish.groupby(['products']).sum()\n",
    "df_top_export = df_top_export.sort_values(by='export_amount', ascending=False).reset_index()\n",
    "df_top_export['export/humain_food'] = prop(df_top_export['export_amount'], df_top_export['food_amount'])"
   ]
  },
  {
   "cell_type": "code",
   "execution_count": 55,
   "metadata": {},
   "outputs": [
    {
     "data": {
      "text/html": [
       "<div>\n",
       "<style scoped>\n",
       "    .dataframe tbody tr th:only-of-type {\n",
       "        vertical-align: middle;\n",
       "    }\n",
       "\n",
       "    .dataframe tbody tr th {\n",
       "        vertical-align: top;\n",
       "    }\n",
       "\n",
       "    .dataframe thead th {\n",
       "        text-align: right;\n",
       "    }\n",
       "</style>\n",
       "<table border=\"1\" class=\"dataframe\">\n",
       "  <thead>\n",
       "    <tr style=\"text-align: right;\">\n",
       "      <th></th>\n",
       "      <th>products</th>\n",
       "      <th>domestic_amount</th>\n",
       "      <th>production</th>\n",
       "      <th>import_amount</th>\n",
       "      <th>export_amount</th>\n",
       "      <th>food_amount</th>\n",
       "      <th>export/humain_food</th>\n",
       "    </tr>\n",
       "  </thead>\n",
       "  <tbody>\n",
       "    <tr>\n",
       "      <th>0</th>\n",
       "      <td>Maïs</td>\n",
       "      <td>252,125.00</td>\n",
       "      <td>254,789.00</td>\n",
       "      <td>56,769.00</td>\n",
       "      <td>53,912.00</td>\n",
       "      <td>91,045.00</td>\n",
       "      <td>59.21</td>\n",
       "    </tr>\n",
       "    <tr>\n",
       "      <th>1</th>\n",
       "      <td>Huile de Palme</td>\n",
       "      <td>30,237.00</td>\n",
       "      <td>52,986.00</td>\n",
       "      <td>24,192.00</td>\n",
       "      <td>46,235.00</td>\n",
       "      <td>9,833.00</td>\n",
       "      <td>470.20</td>\n",
       "    </tr>\n",
       "    <tr>\n",
       "      <th>2</th>\n",
       "      <td>Manioc</td>\n",
       "      <td>190,166.00</td>\n",
       "      <td>221,161.00</td>\n",
       "      <td>5,423.00</td>\n",
       "      <td>35,761.00</td>\n",
       "      <td>84,210.00</td>\n",
       "      <td>42.47</td>\n",
       "    </tr>\n",
       "    <tr>\n",
       "      <th>3</th>\n",
       "      <td>Riz (Eq Blanchi)</td>\n",
       "      <td>305,283.00</td>\n",
       "      <td>325,569.00</td>\n",
       "      <td>24,557.00</td>\n",
       "      <td>32,460.00</td>\n",
       "      <td>238,592.00</td>\n",
       "      <td>13.60</td>\n",
       "    </tr>\n",
       "    <tr>\n",
       "      <th>4</th>\n",
       "      <td>Blé</td>\n",
       "      <td>281,422.00</td>\n",
       "      <td>225,691.00</td>\n",
       "      <td>92,346.00</td>\n",
       "      <td>32,274.00</td>\n",
       "      <td>221,156.00</td>\n",
       "      <td>14.59</td>\n",
       "    </tr>\n",
       "    <tr>\n",
       "      <th>5</th>\n",
       "      <td>Sucre Eq Brut</td>\n",
       "      <td>87,994.00</td>\n",
       "      <td>84,019.00</td>\n",
       "      <td>32,737.00</td>\n",
       "      <td>25,251.00</td>\n",
       "      <td>80,553.00</td>\n",
       "      <td>31.35</td>\n",
       "    </tr>\n",
       "    <tr>\n",
       "      <th>6</th>\n",
       "      <td>Bananes</td>\n",
       "      <td>69,507.00</td>\n",
       "      <td>83,868.00</td>\n",
       "      <td>3,062.00</td>\n",
       "      <td>17,905.00</td>\n",
       "      <td>56,140.00</td>\n",
       "      <td>31.89</td>\n",
       "    </tr>\n",
       "    <tr>\n",
       "      <th>7</th>\n",
       "      <td>Soja</td>\n",
       "      <td>74,338.00</td>\n",
       "      <td>80,684.00</td>\n",
       "      <td>14,326.00</td>\n",
       "      <td>15,628.00</td>\n",
       "      <td>2,954.00</td>\n",
       "      <td>529.05</td>\n",
       "    </tr>\n",
       "    <tr>\n",
       "      <th>8</th>\n",
       "      <td>Lait - Excl Beurre</td>\n",
       "      <td>326,655.00</td>\n",
       "      <td>307,510.00</td>\n",
       "      <td>33,980.00</td>\n",
       "      <td>15,159.00</td>\n",
       "      <td>269,571.00</td>\n",
       "      <td>5.62</td>\n",
       "    </tr>\n",
       "    <tr>\n",
       "      <th>9</th>\n",
       "      <td>Poissons Pelagiques</td>\n",
       "      <td>17,918.00</td>\n",
       "      <td>22,744.00</td>\n",
       "      <td>9,602.00</td>\n",
       "      <td>13,114.00</td>\n",
       "      <td>13,177.00</td>\n",
       "      <td>99.52</td>\n",
       "    </tr>\n",
       "  </tbody>\n",
       "</table>\n",
       "</div>"
      ],
      "text/plain": [
       "              products  domestic_amount  production  import_amount  \\\n",
       "0                 Maïs       252,125.00  254,789.00      56,769.00   \n",
       "1       Huile de Palme        30,237.00   52,986.00      24,192.00   \n",
       "2               Manioc       190,166.00  221,161.00       5,423.00   \n",
       "3     Riz (Eq Blanchi)       305,283.00  325,569.00      24,557.00   \n",
       "4                  Blé       281,422.00  225,691.00      92,346.00   \n",
       "5        Sucre Eq Brut        87,994.00   84,019.00      32,737.00   \n",
       "6              Bananes        69,507.00   83,868.00       3,062.00   \n",
       "7                 Soja        74,338.00   80,684.00      14,326.00   \n",
       "8   Lait - Excl Beurre       326,655.00  307,510.00      33,980.00   \n",
       "9  Poissons Pelagiques        17,918.00   22,744.00       9,602.00   \n",
       "\n",
       "   export_amount  food_amount  export/humain_food  \n",
       "0      53,912.00    91,045.00               59.21  \n",
       "1      46,235.00     9,833.00              470.20  \n",
       "2      35,761.00    84,210.00               42.47  \n",
       "3      32,460.00   238,592.00               13.60  \n",
       "4      32,274.00   221,156.00               14.59  \n",
       "5      25,251.00    80,553.00               31.35  \n",
       "6      17,905.00    56,140.00               31.89  \n",
       "7      15,628.00     2,954.00              529.05  \n",
       "8      15,159.00   269,571.00                5.62  \n",
       "9      13,114.00    13,177.00               99.52  "
      ]
     },
     "metadata": {},
     "output_type": "display_data"
    }
   ],
   "source": [
    "display(df_top_export.head(10))"
   ]
  },
  {
   "cell_type": "markdown",
   "metadata": {},
   "source": [
    "Les pays en difficultés exportent principalement des produits issus de la production végétale.  \n",
    "Les proportions d'exportations par rapport à la production sont élevées pour le maîs, le manioc, le soja et les poissons."
   ]
  },
  {
   "cell_type": "markdown",
   "metadata": {},
   "source": [
    "***\n",
    "\n",
    "## Exemple de la Thailande"
   ]
  },
  {
   "cell_type": "markdown",
   "metadata": {},
   "source": [
    "### Exportation du manioc"
   ]
  },
  {
   "cell_type": "code",
   "execution_count": 56,
   "metadata": {},
   "outputs": [],
   "source": [
    "# select Thailand\n",
    "df_food_thai_products_manioc_avl = df_food_avl_by_country_under_nourish.loc[\n",
    "    (df_food_avl_by_country_under_nourish['country'] == 'Thaïlande') \n",
    "    & (df_food_avl_by_country_under_nourish['products'] == 'Manioc')]\n",
    "df_food_thai_products_manioc_avl = df_food_thai_products_manioc_avl[\n",
    "    ['domestic_amount', 'products', 'production', 'import_amount', 'export_amount', 'food_amount']]\n",
    "\n",
    "# proportion\n",
    "df_food_thai_products_manioc_avl['export/production'] = prop(df_food_thai_products_manioc_avl['export_amount'], df_food_thai_products_manioc_avl['production'])\n",
    "df_food_thai_products_manioc_avl['domestic_avl/production'] = prop(df_food_thai_products_manioc_avl['domestic_amount'], df_food_thai_products_manioc_avl['production'])"
   ]
  },
  {
   "cell_type": "code",
   "execution_count": 57,
   "metadata": {},
   "outputs": [
    {
     "data": {
      "text/html": [
       "<div>\n",
       "<style scoped>\n",
       "    .dataframe tbody tr th:only-of-type {\n",
       "        vertical-align: middle;\n",
       "    }\n",
       "\n",
       "    .dataframe tbody tr th {\n",
       "        vertical-align: top;\n",
       "    }\n",
       "\n",
       "    .dataframe thead th {\n",
       "        text-align: right;\n",
       "    }\n",
       "</style>\n",
       "<table border=\"1\" class=\"dataframe\">\n",
       "  <thead>\n",
       "    <tr style=\"text-align: right;\">\n",
       "      <th></th>\n",
       "      <th>country</th>\n",
       "      <th>year</th>\n",
       "      <th>nb_under_nourish</th>\n",
       "      <th>pop_size</th>\n",
       "      <th>prop_under_nourish</th>\n",
       "      <th>is_under_nourish</th>\n",
       "    </tr>\n",
       "  </thead>\n",
       "  <tbody>\n",
       "    <tr>\n",
       "      <th>185</th>\n",
       "      <td>Thaïlande</td>\n",
       "      <td>2017</td>\n",
       "      <td>6,200,000.00</td>\n",
       "      <td>69,209,810.00</td>\n",
       "      <td>8.96</td>\n",
       "      <td>True</td>\n",
       "    </tr>\n",
       "  </tbody>\n",
       "</table>\n",
       "</div>"
      ],
      "text/plain": [
       "       country  year  nb_under_nourish      pop_size  prop_under_nourish  \\\n",
       "185  Thaïlande  2017      6,200,000.00 69,209,810.00                8.96   \n",
       "\n",
       "     is_under_nourish  \n",
       "185              True  "
      ]
     },
     "metadata": {},
     "output_type": "display_data"
    },
    {
     "data": {
      "text/html": [
       "<div>\n",
       "<style scoped>\n",
       "    .dataframe tbody tr th:only-of-type {\n",
       "        vertical-align: middle;\n",
       "    }\n",
       "\n",
       "    .dataframe tbody tr th {\n",
       "        vertical-align: top;\n",
       "    }\n",
       "\n",
       "    .dataframe thead th {\n",
       "        text-align: right;\n",
       "    }\n",
       "</style>\n",
       "<table border=\"1\" class=\"dataframe\">\n",
       "  <thead>\n",
       "    <tr style=\"text-align: right;\">\n",
       "      <th></th>\n",
       "      <th>domestic_amount</th>\n",
       "      <th>products</th>\n",
       "      <th>production</th>\n",
       "      <th>import_amount</th>\n",
       "      <th>export_amount</th>\n",
       "      <th>food_amount</th>\n",
       "      <th>export/production</th>\n",
       "      <th>domestic_avl/production</th>\n",
       "    </tr>\n",
       "  </thead>\n",
       "  <tbody>\n",
       "    <tr>\n",
       "      <th>8082</th>\n",
       "      <td>6,264.00</td>\n",
       "      <td>Manioc</td>\n",
       "      <td>30,228.00</td>\n",
       "      <td>1,250.00</td>\n",
       "      <td>25,214.00</td>\n",
       "      <td>871.00</td>\n",
       "      <td>83.41</td>\n",
       "      <td>20.72</td>\n",
       "    </tr>\n",
       "  </tbody>\n",
       "</table>\n",
       "</div>"
      ],
      "text/plain": [
       "      domestic_amount products  production  import_amount  export_amount  \\\n",
       "8082         6,264.00   Manioc   30,228.00       1,250.00      25,214.00   \n",
       "\n",
       "      food_amount  export/production  domestic_avl/production  \n",
       "8082       871.00              83.41                    20.72  "
      ]
     },
     "metadata": {},
     "output_type": "display_data"
    }
   ],
   "source": [
    "display(df_under_nourish_pop.loc[(df_under_nourish_pop['country'] == 'Thaïlande')])\n",
    "display(df_food_thai_products_manioc_avl)"
   ]
  },
  {
   "cell_type": "markdown",
   "metadata": {},
   "source": [
    "### Conclusion"
   ]
  },
  {
   "cell_type": "code",
   "execution_count": 58,
   "metadata": {},
   "outputs": [
    {
     "name": "stdout",
     "output_type": "stream",
     "text": [
      "\n",
      "La Thaïlande exporte 25214.0 milliers de tonnes de manioc.\n",
      "Cela représente 83.41% de sa production.\n",
      "Avec les importations, il reste 6264.0 milliers de tonnes de disponibles.\n",
      "\n"
     ]
    }
   ],
   "source": [
    "print(f\"\"\"\n",
    "La Thaïlande exporte {df_food_thai_products_manioc_avl.iloc[0]['export_amount']} milliers de tonnes de manioc.\n",
    "Cela représente {df_food_thai_products_manioc_avl.iloc[0]['export/production']}% de sa production.\n",
    "Avec les importations, il reste {df_food_thai_products_manioc_avl.iloc[0]['domestic_amount']} milliers de tonnes de disponibles.\n",
    "\"\"\")"
   ]
  },
  {
   "cell_type": "markdown",
   "metadata": {},
   "source": [
    "# Aide alimentaire"
   ]
  },
  {
   "cell_type": "markdown",
   "metadata": {},
   "source": [
    "***\n",
    "\n",
    "## Pays qui ont le plus bénéficié d’aide depuis 2013"
   ]
  },
  {
   "cell_type": "code",
   "execution_count": 59,
   "metadata": {
    "tags": []
   },
   "outputs": [
    {
     "data": {
      "text/html": [
       "<div>\n",
       "<style scoped>\n",
       "    .dataframe tbody tr th:only-of-type {\n",
       "        vertical-align: middle;\n",
       "    }\n",
       "\n",
       "    .dataframe tbody tr th {\n",
       "        vertical-align: top;\n",
       "    }\n",
       "\n",
       "    .dataframe thead th {\n",
       "        text-align: right;\n",
       "    }\n",
       "</style>\n",
       "<table border=\"1\" class=\"dataframe\">\n",
       "  <thead>\n",
       "    <tr style=\"text-align: right;\">\n",
       "      <th></th>\n",
       "      <th>country</th>\n",
       "      <th>year</th>\n",
       "      <th>help_product_value</th>\n",
       "    </tr>\n",
       "  </thead>\n",
       "  <tbody>\n",
       "    <tr>\n",
       "      <th>0</th>\n",
       "      <td>Afghanistan</td>\n",
       "      <td>2013</td>\n",
       "      <td>128238</td>\n",
       "    </tr>\n",
       "    <tr>\n",
       "      <th>1</th>\n",
       "      <td>Afghanistan</td>\n",
       "      <td>2014</td>\n",
       "      <td>57214</td>\n",
       "    </tr>\n",
       "    <tr>\n",
       "      <th>2</th>\n",
       "      <td>Algérie</td>\n",
       "      <td>2013</td>\n",
       "      <td>35234</td>\n",
       "    </tr>\n",
       "    <tr>\n",
       "      <th>3</th>\n",
       "      <td>Algérie</td>\n",
       "      <td>2014</td>\n",
       "      <td>18980</td>\n",
       "    </tr>\n",
       "    <tr>\n",
       "      <th>4</th>\n",
       "      <td>Algérie</td>\n",
       "      <td>2015</td>\n",
       "      <td>17424</td>\n",
       "    </tr>\n",
       "  </tbody>\n",
       "</table>\n",
       "</div>"
      ],
      "text/plain": [
       "       country  year  help_product_value\n",
       "0  Afghanistan  2013              128238\n",
       "1  Afghanistan  2014               57214\n",
       "2      Algérie  2013               35234\n",
       "3      Algérie  2014               18980\n",
       "4      Algérie  2015               17424"
      ]
     },
     "metadata": {},
     "output_type": "display_data"
    }
   ],
   "source": [
    "df_foods_help_by_year = df_foods_help.groupby(['country', 'year']).sum().reset_index()\n",
    "display(df_foods_help_by_year.head(5))"
   ]
  },
  {
   "cell_type": "markdown",
   "metadata": {},
   "source": [
    "### Aide alimentaire en volume"
   ]
  },
  {
   "cell_type": "code",
   "execution_count": 60,
   "metadata": {
    "tags": []
   },
   "outputs": [],
   "source": [
    "# select years\n",
    "df_foods_help_by_year = df_foods_help_by_year[df_foods_help_by_year[\"year\"] > 2012]\n",
    "\n",
    "# sums\n",
    "df_foods_help_by_country = df_foods_help_by_year.groupby(['country']).sum()\n",
    "del df_foods_help_by_country['year']\n",
    "\n",
    "df_foods_help_by_country = df_foods_help_by_country.sort_values([\"help_product_value\"], ascending=False)\n",
    "top_foods_help_by_country = df_foods_help_by_country.iloc[:10]"
   ]
  },
  {
   "cell_type": "code",
   "execution_count": 61,
   "metadata": {},
   "outputs": [
    {
     "data": {
      "text/html": [
       "<div>\n",
       "<style scoped>\n",
       "    .dataframe tbody tr th:only-of-type {\n",
       "        vertical-align: middle;\n",
       "    }\n",
       "\n",
       "    .dataframe tbody tr th {\n",
       "        vertical-align: top;\n",
       "    }\n",
       "\n",
       "    .dataframe thead th {\n",
       "        text-align: right;\n",
       "    }\n",
       "</style>\n",
       "<table border=\"1\" class=\"dataframe\">\n",
       "  <thead>\n",
       "    <tr style=\"text-align: right;\">\n",
       "      <th></th>\n",
       "      <th>help_product_value</th>\n",
       "    </tr>\n",
       "    <tr>\n",
       "      <th>country</th>\n",
       "      <th></th>\n",
       "    </tr>\n",
       "  </thead>\n",
       "  <tbody>\n",
       "    <tr>\n",
       "      <th>République arabe syrienne</th>\n",
       "      <td>1858943</td>\n",
       "    </tr>\n",
       "    <tr>\n",
       "      <th>Éthiopie</th>\n",
       "      <td>1381294</td>\n",
       "    </tr>\n",
       "    <tr>\n",
       "      <th>Yémen</th>\n",
       "      <td>1206484</td>\n",
       "    </tr>\n",
       "    <tr>\n",
       "      <th>Soudan du Sud</th>\n",
       "      <td>695248</td>\n",
       "    </tr>\n",
       "    <tr>\n",
       "      <th>Soudan</th>\n",
       "      <td>669784</td>\n",
       "    </tr>\n",
       "    <tr>\n",
       "      <th>Kenya</th>\n",
       "      <td>552836</td>\n",
       "    </tr>\n",
       "    <tr>\n",
       "      <th>Bangladesh</th>\n",
       "      <td>348188</td>\n",
       "    </tr>\n",
       "    <tr>\n",
       "      <th>Somalie</th>\n",
       "      <td>292678</td>\n",
       "    </tr>\n",
       "    <tr>\n",
       "      <th>République démocratique du Congo</th>\n",
       "      <td>288502</td>\n",
       "    </tr>\n",
       "    <tr>\n",
       "      <th>Niger</th>\n",
       "      <td>276344</td>\n",
       "    </tr>\n",
       "  </tbody>\n",
       "</table>\n",
       "</div>"
      ],
      "text/plain": [
       "                                  help_product_value\n",
       "country                                             \n",
       "République arabe syrienne                    1858943\n",
       "Éthiopie                                     1381294\n",
       "Yémen                                        1206484\n",
       "Soudan du Sud                                 695248\n",
       "Soudan                                        669784\n",
       "Kenya                                         552836\n",
       "Bangladesh                                    348188\n",
       "Somalie                                       292678\n",
       "République démocratique du Congo              288502\n",
       "Niger                                         276344"
      ]
     },
     "metadata": {},
     "output_type": "display_data"
    }
   ],
   "source": [
    "display(top_foods_help_by_country)"
   ]
  },
  {
   "cell_type": "code",
   "execution_count": 62,
   "metadata": {
    "tags": []
   },
   "outputs": [
    {
     "data": {
      "image/png": "[encoded data removed]",
      "text/plain": [
       "<Figure size 720x432 with 1 Axes>"
      ]
     },
     "metadata": {
      "needs_background": "light"
     },
     "output_type": "display_data"
    }
   ],
   "source": [
    "# chart\n",
    "ax = top_foods_help_by_country.plot.barh(title=\"10 premiers pays qui ont le plus bénéficié d’aide depuis 2013 (en millions de tonnes)\",\n",
    "                                         figsize=(10,6), fontsize=14)\n",
    "ax.invert_yaxis()"
   ]
  },
  {
   "cell_type": "markdown",
   "metadata": {},
   "source": [
    "### Conclusion\n",
    "Les pays ayant réçu le plus d'aide alimentaire sont localisés principalement en Afrique et au Moyen-Orient. On note cependant que ces pays ne sont pas les plus en situation de sous-nutrition."
   ]
  },
  {
   "cell_type": "markdown",
   "metadata": {},
   "source": [
    "## Evolution de la sous-nutrition et de l'aide alimentaire"
   ]
  },
  {
   "cell_type": "markdown",
   "metadata": {},
   "source": [
    "### Evolution de la proportion de personne en état de sous-nutrition"
   ]
  },
  {
   "cell_type": "code",
   "execution_count": 63,
   "metadata": {
    "tags": []
   },
   "outputs": [],
   "source": [
    "evo_pop_under_nourish = df_under_nourish.groupby(['year']).sum()\n",
    "evo_pop = df_pop.groupby(['year']).sum()\n",
    "evo_pop_under_nourish = evo_pop_under_nourish.merge(evo_pop, on='year')\n",
    "evo_pop_under_nourish['prop_under_nourish'] = round(\n",
    "    evo_pop_under_nourish['nb_under_nourish'] / evo_pop_under_nourish['pop_size'] * 100, 2)"
   ]
  },
  {
   "cell_type": "code",
   "execution_count": 64,
   "metadata": {},
   "outputs": [
    {
     "data": {
      "text/html": [
       "<div>\n",
       "<style scoped>\n",
       "    .dataframe tbody tr th:only-of-type {\n",
       "        vertical-align: middle;\n",
       "    }\n",
       "\n",
       "    .dataframe tbody tr th {\n",
       "        vertical-align: top;\n",
       "    }\n",
       "\n",
       "    .dataframe thead th {\n",
       "        text-align: right;\n",
       "    }\n",
       "</style>\n",
       "<table border=\"1\" class=\"dataframe\">\n",
       "  <thead>\n",
       "    <tr style=\"text-align: right;\">\n",
       "      <th></th>\n",
       "      <th>nb_under_nourish</th>\n",
       "      <th>pop_size</th>\n",
       "      <th>prop_under_nourish</th>\n",
       "    </tr>\n",
       "    <tr>\n",
       "      <th>year</th>\n",
       "      <th></th>\n",
       "      <th></th>\n",
       "      <th></th>\n",
       "    </tr>\n",
       "  </thead>\n",
       "  <tbody>\n",
       "    <tr>\n",
       "      <th>2013</th>\n",
       "      <td>528,300,000.00</td>\n",
       "      <td>7,210,845,848.00</td>\n",
       "      <td>7.33</td>\n",
       "    </tr>\n",
       "    <tr>\n",
       "      <th>2014</th>\n",
       "      <td>523,710,000.00</td>\n",
       "      <td>7,295,557,771.00</td>\n",
       "      <td>7.18</td>\n",
       "    </tr>\n",
       "    <tr>\n",
       "      <th>2015</th>\n",
       "      <td>524,900,000.00</td>\n",
       "      <td>7,380,067,075.00</td>\n",
       "      <td>7.11</td>\n",
       "    </tr>\n",
       "    <tr>\n",
       "      <th>2016</th>\n",
       "      <td>528,800,000.00</td>\n",
       "      <td>7,464,294,742.00</td>\n",
       "      <td>7.08</td>\n",
       "    </tr>\n",
       "    <tr>\n",
       "      <th>2017</th>\n",
       "      <td>535,900,000.00</td>\n",
       "      <td>7,548,134,111.00</td>\n",
       "      <td>7.10</td>\n",
       "    </tr>\n",
       "    <tr>\n",
       "      <th>2018</th>\n",
       "      <td>544,390,000.00</td>\n",
       "      <td>7,631,368,523.00</td>\n",
       "      <td>7.13</td>\n",
       "    </tr>\n",
       "  </tbody>\n",
       "</table>\n",
       "</div>"
      ],
      "text/plain": [
       "      nb_under_nourish         pop_size  prop_under_nourish\n",
       "year                                                       \n",
       "2013    528,300,000.00 7,210,845,848.00                7.33\n",
       "2014    523,710,000.00 7,295,557,771.00                7.18\n",
       "2015    524,900,000.00 7,380,067,075.00                7.11\n",
       "2016    528,800,000.00 7,464,294,742.00                7.08\n",
       "2017    535,900,000.00 7,548,134,111.00                7.10\n",
       "2018    544,390,000.00 7,631,368,523.00                7.13"
      ]
     },
     "metadata": {},
     "output_type": "display_data"
    }
   ],
   "source": [
    "display(evo_pop_under_nourish)"
   ]
  },
  {
   "cell_type": "code",
   "execution_count": 65,
   "metadata": {
    "tags": []
   },
   "outputs": [
    {
     "data": {
      "image/png": "[encoded data removed]",
      "text/plain": [
       "<Figure size 432x360 with 1 Axes>"
      ]
     },
     "metadata": {
      "needs_background": "light"
     },
     "output_type": "display_data"
    }
   ],
   "source": [
    "# chart\n",
    "pie, ax = plt.subplots(figsize=[6,5])\n",
    "plt.plot(evo_pop_under_nourish['prop_under_nourish'])\n",
    "plt.title(\"Evolution de la sous-nutrition\", fontsize=18, pad=40)\n",
    "plt.ylabel('Proportion de personne en sous-nutrition (%)')\n",
    "plt.xlabel('Année')\n",
    "plt.show()"
   ]
  },
  {
   "cell_type": "markdown",
   "metadata": {},
   "source": [
    "Entre 2013 et 2016, la sous-nutrition dans le monde était en baisse.  \n",
    "On remarque pour 2017 et 2018, un hausse de celle-ci."
   ]
  },
  {
   "cell_type": "markdown",
   "metadata": {},
   "source": [
    "### Evolution de l'aide humanitaire"
   ]
  },
  {
   "cell_type": "code",
   "execution_count": 66,
   "metadata": {},
   "outputs": [
    {
     "data": {
      "text/html": [
       "<div>\n",
       "<style scoped>\n",
       "    .dataframe tbody tr th:only-of-type {\n",
       "        vertical-align: middle;\n",
       "    }\n",
       "\n",
       "    .dataframe tbody tr th {\n",
       "        vertical-align: top;\n",
       "    }\n",
       "\n",
       "    .dataframe thead th {\n",
       "        text-align: right;\n",
       "    }\n",
       "</style>\n",
       "<table border=\"1\" class=\"dataframe\">\n",
       "  <thead>\n",
       "    <tr style=\"text-align: right;\">\n",
       "      <th></th>\n",
       "      <th>help_product_value</th>\n",
       "    </tr>\n",
       "    <tr>\n",
       "      <th>year</th>\n",
       "      <th></th>\n",
       "    </tr>\n",
       "  </thead>\n",
       "  <tbody>\n",
       "    <tr>\n",
       "      <th>2013</th>\n",
       "      <td>4165674</td>\n",
       "    </tr>\n",
       "    <tr>\n",
       "      <th>2014</th>\n",
       "      <td>3939152</td>\n",
       "    </tr>\n",
       "    <tr>\n",
       "      <th>2015</th>\n",
       "      <td>2187507</td>\n",
       "    </tr>\n",
       "    <tr>\n",
       "      <th>2016</th>\n",
       "      <td>743568</td>\n",
       "    </tr>\n",
       "  </tbody>\n",
       "</table>\n",
       "</div>"
      ],
      "text/plain": [
       "      help_product_value\n",
       "year                    \n",
       "2013             4165674\n",
       "2014             3939152\n",
       "2015             2187507\n",
       "2016              743568"
      ]
     },
     "metadata": {},
     "output_type": "display_data"
    }
   ],
   "source": [
    "df_foods_help = df_foods_help_by_year.groupby(['year']).sum()\n",
    "display(df_foods_help)"
   ]
  },
  {
   "cell_type": "code",
   "execution_count": 67,
   "metadata": {},
   "outputs": [
    {
     "data": {
      "image/png": "[encoded data removed]",
      "text/plain": [
       "<Figure size 432x360 with 1 Axes>"
      ]
     },
     "metadata": {
      "needs_background": "light"
     },
     "output_type": "display_data"
    }
   ],
   "source": [
    "# chart\n",
    "pie, ax = plt.subplots(figsize=[6,5])\n",
    "plt.plot(df_foods_help['help_product_value'])\n",
    "plt.title(\"Evolution de l'aide alimentaire\", fontsize=18, pad=40)\n",
    "ax.locator_params(integer=True)\n",
    "plt.ylabel('Quantité (milliers de tonnes)')\n",
    "plt.xlabel('Année')\n",
    "plt.show()"
   ]
  },
  {
   "cell_type": "markdown",
   "metadata": {},
   "source": [
    "La quantité d'aide alimentaire à fortement diminuée entre 2013 et 2016."
   ]
  },
  {
   "cell_type": "markdown",
   "metadata": {},
   "source": [
    "### Conclusion\n",
    "La baisse de la sous-nutrition entre 2013 et 2016 a induis une baisse de l'aide alimentaire.  \n",
    "Il serait interessant de voir si la quantité d'aide à augmentée depuis 2016 suite à la hausse du nombre de personne en sous-nutrition. Si ce n'est pas le cas, il faudrait augmenter l'aide."
   ]
  },
  {
   "cell_type": "markdown",
   "metadata": {},
   "source": [
    "# Conclusion"
   ]
  },
  {
   "cell_type": "markdown",
   "metadata": {},
   "source": [
    "* Sous-nutrition  \n",
    "536 millions de personnes en sous-nutrition (7.1%).  \n",
    "En augmentation depuis 2016.  \n",
    "\n",
    "* Disponibilité alimentaire  \n",
    "La production mondiale de nourriture est suffisante pour nourrir la population mondiale.\n",
    "Celle-ci n'est pas également répartie entre les pays.\n",
    "\n",
    "* Aide alimentaire  \n",
    "L'aide est en baisse depuis 2013, il faut continuer nos efforts."
   ]
  }
 ],
 "metadata": {
  "kernelspec": {
   "display_name": "Python 3",
   "language": "python",
   "name": "python3"
  },
  "language_info": {
   "codemirror_mode": {
    "name": "ipython",
    "version": 3
   },
   "file_extension": ".py",
   "mimetype": "text/x-python",
   "name": "python",
   "nbconvert_exporter": "python",
   "pygments_lexer": "ipython3",
   "version": "3.8.8"
  },
  "toc": {
   "base_numbering": 1,
   "nav_menu": {},
   "number_sections": true,
   "sideBar": true,
   "skip_h1_title": false,
   "title_cell": "Table of Contents",
   "title_sidebar": "Contents",
   "toc_cell": false,
   "toc_position": {
    "height": "calc(100% - 180px)",
    "left": "10px",
    "top": "150px",
    "width": "582px"
   },
   "toc_section_display": true,
   "toc_window_display": false
  },
  "toc-autonumbering": true,
  "toc-showmarkdowntxt": false
 },
 "nbformat": 4,
 "nbformat_minor": 4
}
